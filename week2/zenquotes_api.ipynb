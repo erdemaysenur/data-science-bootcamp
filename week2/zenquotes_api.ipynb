{
 "cells": [
  {
   "cell_type": "markdown",
   "id": "24c20764-ff0e-4009-929a-b3de133c2c4b",
   "metadata": {},
   "source": [
    "# ZenQuotes"
   ]
  },
  {
   "cell_type": "code",
   "execution_count": 12,
   "id": "48b28b6c-56c5-4632-b349-51cfad82ced2",
   "metadata": {},
   "outputs": [],
   "source": [
    "import requests\n",
    "from bs4 import BeautifulSoup\n",
    "import pandas as pd\n",
    "import numpy as np\n",
    "import json\n",
    "import random\n",
    "import time\n",
    "import os"
   ]
  },
  {
   "cell_type": "markdown",
   "id": "5fe17b33-f076-45bb-94d5-ecf346728663",
   "metadata": {},
   "source": [
    "Alıntıları elde edeceğim URL'ini bir değişkene atıyorum. Pek çok farklı kategori olduğu için ben sadece seçtiğim konulardaki alıntıları çekmek istiyorum. Bunları da ```keywords``` listesine atıyorum."
   ]
  },
  {
   "cell_type": "code",
   "execution_count": 4,
   "id": "a3b75584-7974-4b43-8a87-987b9155b701",
   "metadata": {},
   "outputs": [],
   "source": [
    "url = \"https://zenquotes.io/api/quotes/\"\n",
    "\n",
    "keywords = [\"courage\",\"dreams\",\"fear\",\"freedom\",\"future\",\"happiness\",\"inspiration\",\"leadership\",\"life\",\"love\",\"past\",\"success\",\"work\"]"
   ]
  },
  {
   "cell_type": "markdown",
   "id": "b7f8b29d-ba66-40fa-a27b-9bb7f395d083",
   "metadata": {},
   "source": [
    "Bu bağlantıya bir istek atmak için request paketini kullanıyorum."
   ]
  },
  {
   "cell_type": "code",
   "execution_count": null,
   "id": "c0569a49-1491-4a16-be62-87be723fc752",
   "metadata": {},
   "outputs": [],
   "source": [
    "response = requests.get(url)"
   ]
  },
  {
   "cell_type": "markdown",
   "id": "d45d4b46-fcd4-41b9-a503-9840891d0987",
   "metadata": {},
   "source": [
    "[Dokumantasyon](https://premium.zenquotes.io/zenquotes-documentation/)da yazdığı üzere bu istek bir JSON olarak dönecek. Bu yanıttan aldığım veriyi okuyorum ve ilk elemanını görüntülüyorum."
   ]
  },
  {
   "cell_type": "code",
   "execution_count": 7,
   "id": "3b8330ff-4524-42a1-afb4-04c847e6a748",
   "metadata": {},
   "outputs": [
    {
     "data": {
      "text/plain": [
       "{'q': 'I am not absentminded. It is the presence of mind that makes me unaware of everything else.',\n",
       " 'a': 'Gilbert Chesterton',\n",
       " 'c': '91',\n",
       " 'h': '<blockquote>&ldquo;I am not absentminded. It is the presence of mind that makes me unaware of everything else.&rdquo; &mdash; <footer>Gilbert Chesterton</footer></blockquote>'}"
      ]
     },
     "execution_count": 7,
     "metadata": {},
     "output_type": "execute_result"
    }
   ],
   "source": [
    "json_data = json.loads(response.text)\n",
    "json_data[0]"
   ]
  },
  {
   "cell_type": "markdown",
   "id": "fe8d17ab-5007-4bdb-ab4a-58848e503393",
   "metadata": {},
   "source": [
    "Yine dokumantasyonuna bakınca buradaki yanıt:\n",
    "- q : alıntı\n",
    "- a : yazar (söyleyen kişi)\n",
    "- c : karakter uzunluğu\n",
    "- h : html formatındaki alıntı\n",
    "\n",
    "Bu istekten dönen toplam alıntı sayısı:"
   ]
  },
  {
   "cell_type": "code",
   "execution_count": 8,
   "id": "8d1a6a21-9c08-4b0d-bfc1-51d7df2ae2fd",
   "metadata": {},
   "outputs": [
    {
     "data": {
      "text/plain": [
       "50"
      ]
     },
     "execution_count": 8,
     "metadata": {},
     "output_type": "execute_result"
    }
   ],
   "source": [
    "len(json_data)"
   ]
  },
  {
   "cell_type": "markdown",
   "id": "99d6898a-eb65-4671-a58e-12b31f9105f7",
   "metadata": {},
   "source": [
    "İstediğim kategorilerde alıntıları çekebilmek için bir fonksiyorum yazıyorum. Çektiğim her verideki söz sahibi kişiyi, alıntıyı ve kategorisini ayrı listelerde topluyorum. Bağlantı problemiyle karşılaştığım için fonksiyon her çağrıldığında 50 veriyi istiyorum. Üst üste çok istek gönderince red almamak için 8sn uyuma süresi tanımlıyorum."
   ]
  },
  {
   "cell_type": "code",
   "execution_count": 15,
   "id": "9923f17b-19d3-4473-8af4-599e488a8f39",
   "metadata": {},
   "outputs": [],
   "source": [
    "def get_quotes():\n",
    "    i = 0\n",
    "    authors = []\n",
    "    quotes = []\n",
    "    keys = []\n",
    "    keywords = [\"courage\",\"fear\",\"leadership\",\"love\",\"success\",\"work\"]\n",
    "    while i < 50:\n",
    "        for keyword in keywords:\n",
    "            link = \"https://zenquotes.io/api/quotes/\" + keyword\n",
    "            response = requests.get(link)\n",
    "            json_data = json.loads(response.text)\n",
    "            i += 1\n",
    "            rand = random.randint(0, len(json_data)-1)\n",
    "            authors.append(json_data[rand][\"a\"])\n",
    "            quotes.append(json_data[rand][\"q\"])\n",
    "            keys.append(keyword)\n",
    "            time.sleep(8)\n",
    "    return authors, quotes, keys"
   ]
  },
  {
   "cell_type": "code",
   "execution_count": 41,
   "id": "aab6fd96-af8f-459e-b610-229f93ca254b",
   "metadata": {},
   "outputs": [
    {
     "name": "stdout",
     "output_type": "stream",
     "text": [
      "CPU times: total: 1.41 s\n",
      "Wall time: 8min 12s\n"
     ]
    }
   ],
   "source": [
    "%%time\n",
    "a, q, k = get_quotes()"
   ]
  },
  {
   "cell_type": "markdown",
   "id": "f146cc88-55c5-4395-890a-d243ca6d4434",
   "metadata": {},
   "source": [
    "Çektiğim ve listelediğim verileri bir pandas dataframe haline getirip csv olarak kaydediyorum. Sorunsuz bir şekilde çektikten sonra hepsini tek bir dataframe haline getireceğim."
   ]
  },
  {
   "cell_type": "code",
   "execution_count": 42,
   "id": "c8c17dd8-a86a-402d-a8b2-b8c0bd1188e8",
   "metadata": {},
   "outputs": [
    {
     "data": {
      "text/html": [
       "<div>\n",
       "<style scoped>\n",
       "    .dataframe tbody tr th:only-of-type {\n",
       "        vertical-align: middle;\n",
       "    }\n",
       "\n",
       "    .dataframe tbody tr th {\n",
       "        vertical-align: top;\n",
       "    }\n",
       "\n",
       "    .dataframe thead th {\n",
       "        text-align: right;\n",
       "    }\n",
       "</style>\n",
       "<table border=\"1\" class=\"dataframe\">\n",
       "  <thead>\n",
       "    <tr style=\"text-align: right;\">\n",
       "      <th></th>\n",
       "      <th>author</th>\n",
       "      <th>quote</th>\n",
       "      <th>keyword</th>\n",
       "    </tr>\n",
       "  </thead>\n",
       "  <tbody>\n",
       "    <tr>\n",
       "      <th>0</th>\n",
       "      <td>Elon Musk</td>\n",
       "      <td>If life is a video game, the graphics are grea...</td>\n",
       "      <td>courage</td>\n",
       "    </tr>\n",
       "    <tr>\n",
       "      <th>1</th>\n",
       "      <td>Mae West</td>\n",
       "      <td>Those who are easily shocked should be shocked...</td>\n",
       "      <td>fear</td>\n",
       "    </tr>\n",
       "    <tr>\n",
       "      <th>2</th>\n",
       "      <td>Doug Ivester</td>\n",
       "      <td>Never let your memories be greater than your d...</td>\n",
       "      <td>leadership</td>\n",
       "    </tr>\n",
       "    <tr>\n",
       "      <th>3</th>\n",
       "      <td>Steve Maraboli</td>\n",
       "      <td>The right thing to do and the hard thing to do...</td>\n",
       "      <td>love</td>\n",
       "    </tr>\n",
       "    <tr>\n",
       "      <th>4</th>\n",
       "      <td>Christopher Reeve</td>\n",
       "      <td>You play the hand you're dealt. I think the ga...</td>\n",
       "      <td>success</td>\n",
       "    </tr>\n",
       "  </tbody>\n",
       "</table>\n",
       "</div>"
      ],
      "text/plain": [
       "              author                                              quote  \\\n",
       "0          Elon Musk  If life is a video game, the graphics are grea...   \n",
       "1           Mae West  Those who are easily shocked should be shocked...   \n",
       "2       Doug Ivester  Never let your memories be greater than your d...   \n",
       "3     Steve Maraboli  The right thing to do and the hard thing to do...   \n",
       "4  Christopher Reeve  You play the hand you're dealt. I think the ga...   \n",
       "\n",
       "      keyword  \n",
       "0     courage  \n",
       "1        fear  \n",
       "2  leadership  \n",
       "3        love  \n",
       "4     success  "
      ]
     },
     "execution_count": 42,
     "metadata": {},
     "output_type": "execute_result"
    }
   ],
   "source": [
    "quotes = pd.DataFrame()\n",
    "quotes[\"author\"] = a\n",
    "quotes[\"quote\"] = q\n",
    "quotes[\"keyword\"] = k\n",
    "quotes.head()"
   ]
  },
  {
   "cell_type": "code",
   "execution_count": 43,
   "id": "be291825-c99f-4773-ab32-3c051a3dd440",
   "metadata": {},
   "outputs": [],
   "source": [
    "quotes.to_csv(\"quotes_6.csv\")"
   ]
  },
  {
   "cell_type": "code",
   "execution_count": 48,
   "id": "e7afed44-222a-40f5-a054-87b97b5d0a3e",
   "metadata": {},
   "outputs": [
    {
     "data": {
      "text/html": [
       "<div>\n",
       "<style scoped>\n",
       "    .dataframe tbody tr th:only-of-type {\n",
       "        vertical-align: middle;\n",
       "    }\n",
       "\n",
       "    .dataframe tbody tr th {\n",
       "        vertical-align: top;\n",
       "    }\n",
       "\n",
       "    .dataframe thead th {\n",
       "        text-align: right;\n",
       "    }\n",
       "</style>\n",
       "<table border=\"1\" class=\"dataframe\">\n",
       "  <thead>\n",
       "    <tr style=\"text-align: right;\">\n",
       "      <th></th>\n",
       "      <th>Unnamed: 0</th>\n",
       "      <th>author</th>\n",
       "      <th>quote</th>\n",
       "      <th>keyword</th>\n",
       "    </tr>\n",
       "  </thead>\n",
       "  <tbody>\n",
       "    <tr>\n",
       "      <th>53</th>\n",
       "      <td>53</td>\n",
       "      <td>Leo Tolstoy</td>\n",
       "      <td>Respect was invented to cover the empty place ...</td>\n",
       "      <td>work</td>\n",
       "    </tr>\n",
       "    <tr>\n",
       "      <th>9</th>\n",
       "      <td>9</td>\n",
       "      <td>Ming-Dao Deng</td>\n",
       "      <td>The wise accomplish all that they want without...</td>\n",
       "      <td>love</td>\n",
       "    </tr>\n",
       "    <tr>\n",
       "      <th>35</th>\n",
       "      <td>35</td>\n",
       "      <td>Tony Robbins</td>\n",
       "      <td>If you can't, you must. If you must, you can.</td>\n",
       "      <td>work</td>\n",
       "    </tr>\n",
       "    <tr>\n",
       "      <th>21</th>\n",
       "      <td>21</td>\n",
       "      <td>Honore de Balzac</td>\n",
       "      <td>Every moment of happiness requires a great amo...</td>\n",
       "      <td>love</td>\n",
       "    </tr>\n",
       "    <tr>\n",
       "      <th>15</th>\n",
       "      <td>15</td>\n",
       "      <td>Alexandre Dumas</td>\n",
       "      <td>I am not proud, but I am happy; and happiness ...</td>\n",
       "      <td>love</td>\n",
       "    </tr>\n",
       "    <tr>\n",
       "      <th>18</th>\n",
       "      <td>18</td>\n",
       "      <td>Hans Christian Andersen</td>\n",
       "      <td>Life is like a beautiful melody, only the lyri...</td>\n",
       "      <td>courage</td>\n",
       "    </tr>\n",
       "    <tr>\n",
       "      <th>46</th>\n",
       "      <td>46</td>\n",
       "      <td>T.S. Eliot</td>\n",
       "      <td>The journey, not the destination matters.</td>\n",
       "      <td>success</td>\n",
       "    </tr>\n",
       "    <tr>\n",
       "      <th>34</th>\n",
       "      <td>34</td>\n",
       "      <td>Voltaire</td>\n",
       "      <td>The mirror is a worthless invention. The only ...</td>\n",
       "      <td>success</td>\n",
       "    </tr>\n",
       "    <tr>\n",
       "      <th>49</th>\n",
       "      <td>49</td>\n",
       "      <td>Vincent van Gogh</td>\n",
       "      <td>Great things are not done by impulse, but by a...</td>\n",
       "      <td>fear</td>\n",
       "    </tr>\n",
       "    <tr>\n",
       "      <th>39</th>\n",
       "      <td>39</td>\n",
       "      <td>Brian Tracy</td>\n",
       "      <td>Decide upon your major definite purpose in lif...</td>\n",
       "      <td>love</td>\n",
       "    </tr>\n",
       "  </tbody>\n",
       "</table>\n",
       "</div>"
      ],
      "text/plain": [
       "    Unnamed: 0                   author  \\\n",
       "53          53              Leo Tolstoy   \n",
       "9            9            Ming-Dao Deng   \n",
       "35          35             Tony Robbins   \n",
       "21          21         Honore de Balzac   \n",
       "15          15          Alexandre Dumas   \n",
       "18          18  Hans Christian Andersen   \n",
       "46          46               T.S. Eliot   \n",
       "34          34                 Voltaire   \n",
       "49          49         Vincent van Gogh   \n",
       "39          39              Brian Tracy   \n",
       "\n",
       "                                                quote  keyword  \n",
       "53  Respect was invented to cover the empty place ...     work  \n",
       "9   The wise accomplish all that they want without...     love  \n",
       "35      If you can't, you must. If you must, you can.     work  \n",
       "21  Every moment of happiness requires a great amo...     love  \n",
       "15  I am not proud, but I am happy; and happiness ...     love  \n",
       "18  Life is like a beautiful melody, only the lyri...  courage  \n",
       "46          The journey, not the destination matters.  success  \n",
       "34  The mirror is a worthless invention. The only ...  success  \n",
       "49  Great things are not done by impulse, but by a...     fear  \n",
       "39  Decide upon your major definite purpose in lif...     love  "
      ]
     },
     "execution_count": 48,
     "metadata": {},
     "output_type": "execute_result"
    }
   ],
   "source": [
    "quotes = pd.DataFrame()\n",
    "for file in os.listdir():\n",
    "    i = 1\n",
    "    if file.endswith(\".csv\"):\n",
    "        df = pd.read_csv(\"quotes_\" + str(i) + \".csv\")\n",
    "        i += 1\n",
    "        quotes = pd.concat([quotes, df], axis=0)\n",
    "quotes.sample(10)        "
   ]
  },
  {
   "cell_type": "code",
   "execution_count": 51,
   "id": "8c55de60-7ae9-4ea2-973e-3033ea154f1e",
   "metadata": {},
   "outputs": [
    {
     "name": "stdout",
     "output_type": "stream",
     "text": [
      "(324, 3)\n",
      "<class 'pandas.core.frame.DataFrame'>\n",
      "Int64Index: 324 entries, 0 to 53\n",
      "Data columns (total 3 columns):\n",
      " #   Column   Non-Null Count  Dtype \n",
      "---  ------   --------------  ----- \n",
      " 0   author   324 non-null    object\n",
      " 1   quote    324 non-null    object\n",
      " 2   keyword  324 non-null    object\n",
      "dtypes: object(3)\n",
      "memory usage: 10.1+ KB\n",
      "\n",
      " None\n"
     ]
    }
   ],
   "source": [
    "quotes.drop(\"Unnamed: 0\", axis=1, inplace=True)\n",
    "print(quotes.shape)\n",
    "print(\"\\n\",quotes.info())"
   ]
  },
  {
   "cell_type": "markdown",
   "id": "a2e07b7b-812e-4b8f-989a-209720b56af2",
   "metadata": {},
   "source": [
    "Inspirational quotes provided by <a href=\"https://zenquotes.io/\" target=\"_blank\">ZenQuotes API</a>"
   ]
  }
 ],
 "metadata": {
  "kernelspec": {
   "display_name": "Python 3 (ipykernel)",
   "language": "python",
   "name": "python3"
  },
  "language_info": {
   "codemirror_mode": {
    "name": "ipython",
    "version": 3
   },
   "file_extension": ".py",
   "mimetype": "text/x-python",
   "name": "python",
   "nbconvert_exporter": "python",
   "pygments_lexer": "ipython3",
   "version": "3.9.10"
  }
 },
 "nbformat": 4,
 "nbformat_minor": 5
}
