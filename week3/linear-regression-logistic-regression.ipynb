{
 "cells": [
  {
   "cell_type": "markdown",
   "id": "ff3e986c",
   "metadata": {
    "papermill": {
     "duration": 0.056763,
     "end_time": "2022-02-19T15:30:54.312096",
     "exception": false,
     "start_time": "2022-02-19T15:30:54.255333",
     "status": "completed"
    },
    "tags": []
   },
   "source": [
    "# Importing Packages"
   ]
  },
  {
   "cell_type": "code",
   "execution_count": 1,
   "id": "e4d0db89",
   "metadata": {
    "_cell_guid": "b1076dfc-b9ad-4769-8c92-a6c4dae69d19",
    "_uuid": "8f2839f25d086af736a60e9eeb907d3b93b6e0e5",
    "execution": {
     "iopub.execute_input": "2022-02-19T15:30:54.416772Z",
     "iopub.status.busy": "2022-02-19T15:30:54.415598Z",
     "iopub.status.idle": "2022-02-19T15:30:55.706401Z",
     "shell.execute_reply": "2022-02-19T15:30:55.705569Z",
     "shell.execute_reply.started": "2022-02-19T15:30:32.529115Z"
    },
    "papermill": {
     "duration": 1.343956,
     "end_time": "2022-02-19T15:30:55.706581",
     "exception": false,
     "start_time": "2022-02-19T15:30:54.362625",
     "status": "completed"
    },
    "tags": []
   },
   "outputs": [
    {
     "name": "stdout",
     "output_type": "stream",
     "text": [
      "/kaggle/input/titanic/train.csv\n",
      "/kaggle/input/titanic/test.csv\n",
      "/kaggle/input/titanic/gender_submission.csv\n",
      "/kaggle/input/customer-personality-analysis/marketing_campaign.csv\n"
     ]
    }
   ],
   "source": [
    "# This Python 3 environment comes with many helpful analytics libraries installed\n",
    "# It is defined by the kaggle/python Docker image: https://github.com/kaggle/docker-python\n",
    "# For example, here's several helpful packages to load\n",
    "\n",
    "import numpy as np # linear algebra\n",
    "import pandas as pd # data processing, CSV file I/O (e.g. pd.read_csv)\n",
    "from sklearn.linear_model import LinearRegression, LogisticRegression\n",
    "from sklearn.metrics import mean_squared_error, accuracy_score\n",
    "from sklearn.model_selection import train_test_split\n",
    "import matplotlib.pyplot as plt\n",
    "plt.style.use(\"ggplot\")\n",
    "import seaborn as sns\n",
    "import warnings\n",
    "warnings.filterwarnings(\"ignore\")\n",
    "# Input data files are available in the read-only \"../input/\" directory\n",
    "# For example, running this (by clicking run or pressing Shift+Enter) will list all files under the input directory\n",
    "\n",
    "import os\n",
    "for dirname, _, filenames in os.walk('/kaggle/input'):\n",
    "    for filename in filenames:\n",
    "        print(os.path.join(dirname, filename))\n",
    "\n",
    "# You can write up to 20GB to the current directory (/kaggle/working/) that gets preserved as output when you create a version using \"Save & Run All\" \n",
    "# You can also write temporary files to /kaggle/temp/, but they won't be saved outside of the current session"
   ]
  },
  {
   "cell_type": "markdown",
   "id": "e9ea67b8",
   "metadata": {
    "papermill": {
     "duration": 0.041121,
     "end_time": "2022-02-19T15:30:55.789421",
     "exception": false,
     "start_time": "2022-02-19T15:30:55.748300",
     "status": "completed"
    },
    "tags": []
   },
   "source": [
    "# Linear Regression"
   ]
  },
  {
   "cell_type": "markdown",
   "id": "a0905260",
   "metadata": {
    "papermill": {
     "duration": 0.042564,
     "end_time": "2022-02-19T15:30:55.874953",
     "exception": false,
     "start_time": "2022-02-19T15:30:55.832389",
     "status": "completed"
    },
    "tags": []
   },
   "source": [
    "Müşteri segmentasyonu için kullanmaya uygun olan veri setini kullanarak bir linear regresyon uygulaması yaptım. Bu verisetini lineer regresyon için uygun hale getirmek için, var olan çeşitli ürünlerden satın alma miktarlarını kullanarak müşterinin toplam alışveriş miktarı özelliğini oluşturdum.\n",
    "\n",
    "Hedef: Müşteriye ait verileri kullanarak altın ürünlerine yapacağı harcamayı tahmin etmek."
   ]
  },
  {
   "cell_type": "code",
   "execution_count": 2,
   "id": "d29bd283",
   "metadata": {
    "execution": {
     "iopub.execute_input": "2022-02-19T15:30:55.964821Z",
     "iopub.status.busy": "2022-02-19T15:30:55.964218Z",
     "iopub.status.idle": "2022-02-19T15:30:56.022163Z",
     "shell.execute_reply": "2022-02-19T15:30:56.021602Z",
     "shell.execute_reply.started": "2022-02-19T14:13:03.477571Z"
    },
    "papermill": {
     "duration": 0.103283,
     "end_time": "2022-02-19T15:30:56.022302",
     "exception": false,
     "start_time": "2022-02-19T15:30:55.919019",
     "status": "completed"
    },
    "tags": []
   },
   "outputs": [
    {
     "data": {
      "text/html": [
       "<div>\n",
       "<style scoped>\n",
       "    .dataframe tbody tr th:only-of-type {\n",
       "        vertical-align: middle;\n",
       "    }\n",
       "\n",
       "    .dataframe tbody tr th {\n",
       "        vertical-align: top;\n",
       "    }\n",
       "\n",
       "    .dataframe thead th {\n",
       "        text-align: right;\n",
       "    }\n",
       "</style>\n",
       "<table border=\"1\" class=\"dataframe\">\n",
       "  <thead>\n",
       "    <tr style=\"text-align: right;\">\n",
       "      <th></th>\n",
       "      <th>ID</th>\n",
       "      <th>Year_Birth</th>\n",
       "      <th>Education</th>\n",
       "      <th>Marital_Status</th>\n",
       "      <th>Income</th>\n",
       "      <th>Kidhome</th>\n",
       "      <th>Teenhome</th>\n",
       "      <th>Dt_Customer</th>\n",
       "      <th>Recency</th>\n",
       "      <th>MntWines</th>\n",
       "      <th>...</th>\n",
       "      <th>NumWebVisitsMonth</th>\n",
       "      <th>AcceptedCmp3</th>\n",
       "      <th>AcceptedCmp4</th>\n",
       "      <th>AcceptedCmp5</th>\n",
       "      <th>AcceptedCmp1</th>\n",
       "      <th>AcceptedCmp2</th>\n",
       "      <th>Complain</th>\n",
       "      <th>Z_CostContact</th>\n",
       "      <th>Z_Revenue</th>\n",
       "      <th>Response</th>\n",
       "    </tr>\n",
       "  </thead>\n",
       "  <tbody>\n",
       "    <tr>\n",
       "      <th>0</th>\n",
       "      <td>5524</td>\n",
       "      <td>1957</td>\n",
       "      <td>Graduation</td>\n",
       "      <td>Single</td>\n",
       "      <td>58138.0</td>\n",
       "      <td>0</td>\n",
       "      <td>0</td>\n",
       "      <td>04-09-2012</td>\n",
       "      <td>58</td>\n",
       "      <td>635</td>\n",
       "      <td>...</td>\n",
       "      <td>7</td>\n",
       "      <td>0</td>\n",
       "      <td>0</td>\n",
       "      <td>0</td>\n",
       "      <td>0</td>\n",
       "      <td>0</td>\n",
       "      <td>0</td>\n",
       "      <td>3</td>\n",
       "      <td>11</td>\n",
       "      <td>1</td>\n",
       "    </tr>\n",
       "    <tr>\n",
       "      <th>1</th>\n",
       "      <td>2174</td>\n",
       "      <td>1954</td>\n",
       "      <td>Graduation</td>\n",
       "      <td>Single</td>\n",
       "      <td>46344.0</td>\n",
       "      <td>1</td>\n",
       "      <td>1</td>\n",
       "      <td>08-03-2014</td>\n",
       "      <td>38</td>\n",
       "      <td>11</td>\n",
       "      <td>...</td>\n",
       "      <td>5</td>\n",
       "      <td>0</td>\n",
       "      <td>0</td>\n",
       "      <td>0</td>\n",
       "      <td>0</td>\n",
       "      <td>0</td>\n",
       "      <td>0</td>\n",
       "      <td>3</td>\n",
       "      <td>11</td>\n",
       "      <td>0</td>\n",
       "    </tr>\n",
       "    <tr>\n",
       "      <th>2</th>\n",
       "      <td>4141</td>\n",
       "      <td>1965</td>\n",
       "      <td>Graduation</td>\n",
       "      <td>Together</td>\n",
       "      <td>71613.0</td>\n",
       "      <td>0</td>\n",
       "      <td>0</td>\n",
       "      <td>21-08-2013</td>\n",
       "      <td>26</td>\n",
       "      <td>426</td>\n",
       "      <td>...</td>\n",
       "      <td>4</td>\n",
       "      <td>0</td>\n",
       "      <td>0</td>\n",
       "      <td>0</td>\n",
       "      <td>0</td>\n",
       "      <td>0</td>\n",
       "      <td>0</td>\n",
       "      <td>3</td>\n",
       "      <td>11</td>\n",
       "      <td>0</td>\n",
       "    </tr>\n",
       "    <tr>\n",
       "      <th>3</th>\n",
       "      <td>6182</td>\n",
       "      <td>1984</td>\n",
       "      <td>Graduation</td>\n",
       "      <td>Together</td>\n",
       "      <td>26646.0</td>\n",
       "      <td>1</td>\n",
       "      <td>0</td>\n",
       "      <td>10-02-2014</td>\n",
       "      <td>26</td>\n",
       "      <td>11</td>\n",
       "      <td>...</td>\n",
       "      <td>6</td>\n",
       "      <td>0</td>\n",
       "      <td>0</td>\n",
       "      <td>0</td>\n",
       "      <td>0</td>\n",
       "      <td>0</td>\n",
       "      <td>0</td>\n",
       "      <td>3</td>\n",
       "      <td>11</td>\n",
       "      <td>0</td>\n",
       "    </tr>\n",
       "    <tr>\n",
       "      <th>4</th>\n",
       "      <td>5324</td>\n",
       "      <td>1981</td>\n",
       "      <td>PhD</td>\n",
       "      <td>Married</td>\n",
       "      <td>58293.0</td>\n",
       "      <td>1</td>\n",
       "      <td>0</td>\n",
       "      <td>19-01-2014</td>\n",
       "      <td>94</td>\n",
       "      <td>173</td>\n",
       "      <td>...</td>\n",
       "      <td>5</td>\n",
       "      <td>0</td>\n",
       "      <td>0</td>\n",
       "      <td>0</td>\n",
       "      <td>0</td>\n",
       "      <td>0</td>\n",
       "      <td>0</td>\n",
       "      <td>3</td>\n",
       "      <td>11</td>\n",
       "      <td>0</td>\n",
       "    </tr>\n",
       "    <tr>\n",
       "      <th>5</th>\n",
       "      <td>7446</td>\n",
       "      <td>1967</td>\n",
       "      <td>Master</td>\n",
       "      <td>Together</td>\n",
       "      <td>62513.0</td>\n",
       "      <td>0</td>\n",
       "      <td>1</td>\n",
       "      <td>09-09-2013</td>\n",
       "      <td>16</td>\n",
       "      <td>520</td>\n",
       "      <td>...</td>\n",
       "      <td>6</td>\n",
       "      <td>0</td>\n",
       "      <td>0</td>\n",
       "      <td>0</td>\n",
       "      <td>0</td>\n",
       "      <td>0</td>\n",
       "      <td>0</td>\n",
       "      <td>3</td>\n",
       "      <td>11</td>\n",
       "      <td>0</td>\n",
       "    </tr>\n",
       "    <tr>\n",
       "      <th>6</th>\n",
       "      <td>965</td>\n",
       "      <td>1971</td>\n",
       "      <td>Graduation</td>\n",
       "      <td>Divorced</td>\n",
       "      <td>55635.0</td>\n",
       "      <td>0</td>\n",
       "      <td>1</td>\n",
       "      <td>13-11-2012</td>\n",
       "      <td>34</td>\n",
       "      <td>235</td>\n",
       "      <td>...</td>\n",
       "      <td>6</td>\n",
       "      <td>0</td>\n",
       "      <td>0</td>\n",
       "      <td>0</td>\n",
       "      <td>0</td>\n",
       "      <td>0</td>\n",
       "      <td>0</td>\n",
       "      <td>3</td>\n",
       "      <td>11</td>\n",
       "      <td>0</td>\n",
       "    </tr>\n",
       "    <tr>\n",
       "      <th>7</th>\n",
       "      <td>6177</td>\n",
       "      <td>1985</td>\n",
       "      <td>PhD</td>\n",
       "      <td>Married</td>\n",
       "      <td>33454.0</td>\n",
       "      <td>1</td>\n",
       "      <td>0</td>\n",
       "      <td>08-05-2013</td>\n",
       "      <td>32</td>\n",
       "      <td>76</td>\n",
       "      <td>...</td>\n",
       "      <td>8</td>\n",
       "      <td>0</td>\n",
       "      <td>0</td>\n",
       "      <td>0</td>\n",
       "      <td>0</td>\n",
       "      <td>0</td>\n",
       "      <td>0</td>\n",
       "      <td>3</td>\n",
       "      <td>11</td>\n",
       "      <td>0</td>\n",
       "    </tr>\n",
       "    <tr>\n",
       "      <th>8</th>\n",
       "      <td>4855</td>\n",
       "      <td>1974</td>\n",
       "      <td>PhD</td>\n",
       "      <td>Together</td>\n",
       "      <td>30351.0</td>\n",
       "      <td>1</td>\n",
       "      <td>0</td>\n",
       "      <td>06-06-2013</td>\n",
       "      <td>19</td>\n",
       "      <td>14</td>\n",
       "      <td>...</td>\n",
       "      <td>9</td>\n",
       "      <td>0</td>\n",
       "      <td>0</td>\n",
       "      <td>0</td>\n",
       "      <td>0</td>\n",
       "      <td>0</td>\n",
       "      <td>0</td>\n",
       "      <td>3</td>\n",
       "      <td>11</td>\n",
       "      <td>1</td>\n",
       "    </tr>\n",
       "    <tr>\n",
       "      <th>9</th>\n",
       "      <td>5899</td>\n",
       "      <td>1950</td>\n",
       "      <td>PhD</td>\n",
       "      <td>Together</td>\n",
       "      <td>5648.0</td>\n",
       "      <td>1</td>\n",
       "      <td>1</td>\n",
       "      <td>13-03-2014</td>\n",
       "      <td>68</td>\n",
       "      <td>28</td>\n",
       "      <td>...</td>\n",
       "      <td>20</td>\n",
       "      <td>1</td>\n",
       "      <td>0</td>\n",
       "      <td>0</td>\n",
       "      <td>0</td>\n",
       "      <td>0</td>\n",
       "      <td>0</td>\n",
       "      <td>3</td>\n",
       "      <td>11</td>\n",
       "      <td>0</td>\n",
       "    </tr>\n",
       "  </tbody>\n",
       "</table>\n",
       "<p>10 rows × 29 columns</p>\n",
       "</div>"
      ],
      "text/plain": [
       "     ID  Year_Birth   Education Marital_Status   Income  Kidhome  Teenhome  \\\n",
       "0  5524        1957  Graduation         Single  58138.0        0         0   \n",
       "1  2174        1954  Graduation         Single  46344.0        1         1   \n",
       "2  4141        1965  Graduation       Together  71613.0        0         0   \n",
       "3  6182        1984  Graduation       Together  26646.0        1         0   \n",
       "4  5324        1981         PhD        Married  58293.0        1         0   \n",
       "5  7446        1967      Master       Together  62513.0        0         1   \n",
       "6   965        1971  Graduation       Divorced  55635.0        0         1   \n",
       "7  6177        1985         PhD        Married  33454.0        1         0   \n",
       "8  4855        1974         PhD       Together  30351.0        1         0   \n",
       "9  5899        1950         PhD       Together   5648.0        1         1   \n",
       "\n",
       "  Dt_Customer  Recency  MntWines  ...  NumWebVisitsMonth  AcceptedCmp3  \\\n",
       "0  04-09-2012       58       635  ...                  7             0   \n",
       "1  08-03-2014       38        11  ...                  5             0   \n",
       "2  21-08-2013       26       426  ...                  4             0   \n",
       "3  10-02-2014       26        11  ...                  6             0   \n",
       "4  19-01-2014       94       173  ...                  5             0   \n",
       "5  09-09-2013       16       520  ...                  6             0   \n",
       "6  13-11-2012       34       235  ...                  6             0   \n",
       "7  08-05-2013       32        76  ...                  8             0   \n",
       "8  06-06-2013       19        14  ...                  9             0   \n",
       "9  13-03-2014       68        28  ...                 20             1   \n",
       "\n",
       "   AcceptedCmp4  AcceptedCmp5  AcceptedCmp1  AcceptedCmp2  Complain  \\\n",
       "0             0             0             0             0         0   \n",
       "1             0             0             0             0         0   \n",
       "2             0             0             0             0         0   \n",
       "3             0             0             0             0         0   \n",
       "4             0             0             0             0         0   \n",
       "5             0             0             0             0         0   \n",
       "6             0             0             0             0         0   \n",
       "7             0             0             0             0         0   \n",
       "8             0             0             0             0         0   \n",
       "9             0             0             0             0         0   \n",
       "\n",
       "   Z_CostContact  Z_Revenue  Response  \n",
       "0              3         11         1  \n",
       "1              3         11         0  \n",
       "2              3         11         0  \n",
       "3              3         11         0  \n",
       "4              3         11         0  \n",
       "5              3         11         0  \n",
       "6              3         11         0  \n",
       "7              3         11         0  \n",
       "8              3         11         1  \n",
       "9              3         11         0  \n",
       "\n",
       "[10 rows x 29 columns]"
      ]
     },
     "execution_count": 2,
     "metadata": {},
     "output_type": "execute_result"
    }
   ],
   "source": [
    "data = pd.read_csv(\"../input/customer-personality-analysis/marketing_campaign.csv\", sep=\"\\t\")\n",
    "data.head(10)"
   ]
  },
  {
   "cell_type": "code",
   "execution_count": 3,
   "id": "7ae43fdd",
   "metadata": {
    "execution": {
     "iopub.execute_input": "2022-02-19T15:30:56.118747Z",
     "iopub.status.busy": "2022-02-19T15:30:56.117811Z",
     "iopub.status.idle": "2022-02-19T15:30:56.120455Z",
     "shell.execute_reply": "2022-02-19T15:30:56.119965Z",
     "shell.execute_reply.started": "2022-02-19T14:13:03.536050Z"
    },
    "papermill": {
     "duration": 0.054531,
     "end_time": "2022-02-19T15:30:56.120605",
     "exception": false,
     "start_time": "2022-02-19T15:30:56.066074",
     "status": "completed"
    },
    "tags": []
   },
   "outputs": [],
   "source": [
    "data.drop(\"ID\", axis=1, inplace=True)"
   ]
  },
  {
   "cell_type": "code",
   "execution_count": 4,
   "id": "0b2d81ae",
   "metadata": {
    "execution": {
     "iopub.execute_input": "2022-02-19T15:30:56.208900Z",
     "iopub.status.busy": "2022-02-19T15:30:56.208269Z",
     "iopub.status.idle": "2022-02-19T15:30:56.223123Z",
     "shell.execute_reply": "2022-02-19T15:30:56.223686Z",
     "shell.execute_reply.started": "2022-02-19T14:13:03.546619Z"
    },
    "papermill": {
     "duration": 0.06053,
     "end_time": "2022-02-19T15:30:56.223881",
     "exception": false,
     "start_time": "2022-02-19T15:30:56.163351",
     "status": "completed"
    },
    "tags": []
   },
   "outputs": [],
   "source": [
    "data[\"years\"] = 2022 - pd.to_datetime(data[\"Dt_Customer\"]).dt.year.astype(\"int\")"
   ]
  },
  {
   "cell_type": "code",
   "execution_count": 5,
   "id": "c0bb347e",
   "metadata": {
    "execution": {
     "iopub.execute_input": "2022-02-19T15:30:56.313617Z",
     "iopub.status.busy": "2022-02-19T15:30:56.313024Z",
     "iopub.status.idle": "2022-02-19T15:30:56.331792Z",
     "shell.execute_reply": "2022-02-19T15:30:56.332456Z",
     "shell.execute_reply.started": "2022-02-19T14:13:03.567671Z"
    },
    "papermill": {
     "duration": 0.066089,
     "end_time": "2022-02-19T15:30:56.332626",
     "exception": false,
     "start_time": "2022-02-19T15:30:56.266537",
     "status": "completed"
    },
    "tags": []
   },
   "outputs": [
    {
     "name": "stdout",
     "output_type": "stream",
     "text": [
      "<class 'pandas.core.frame.DataFrame'>\n",
      "RangeIndex: 2240 entries, 0 to 2239\n",
      "Data columns (total 29 columns):\n",
      " #   Column               Non-Null Count  Dtype  \n",
      "---  ------               --------------  -----  \n",
      " 0   Year_Birth           2240 non-null   int64  \n",
      " 1   Education            2240 non-null   object \n",
      " 2   Marital_Status       2240 non-null   object \n",
      " 3   Income               2216 non-null   float64\n",
      " 4   Kidhome              2240 non-null   int64  \n",
      " 5   Teenhome             2240 non-null   int64  \n",
      " 6   Dt_Customer          2240 non-null   object \n",
      " 7   Recency              2240 non-null   int64  \n",
      " 8   MntWines             2240 non-null   int64  \n",
      " 9   MntFruits            2240 non-null   int64  \n",
      " 10  MntMeatProducts      2240 non-null   int64  \n",
      " 11  MntFishProducts      2240 non-null   int64  \n",
      " 12  MntSweetProducts     2240 non-null   int64  \n",
      " 13  MntGoldProds         2240 non-null   int64  \n",
      " 14  NumDealsPurchases    2240 non-null   int64  \n",
      " 15  NumWebPurchases      2240 non-null   int64  \n",
      " 16  NumCatalogPurchases  2240 non-null   int64  \n",
      " 17  NumStorePurchases    2240 non-null   int64  \n",
      " 18  NumWebVisitsMonth    2240 non-null   int64  \n",
      " 19  AcceptedCmp3         2240 non-null   int64  \n",
      " 20  AcceptedCmp4         2240 non-null   int64  \n",
      " 21  AcceptedCmp5         2240 non-null   int64  \n",
      " 22  AcceptedCmp1         2240 non-null   int64  \n",
      " 23  AcceptedCmp2         2240 non-null   int64  \n",
      " 24  Complain             2240 non-null   int64  \n",
      " 25  Z_CostContact        2240 non-null   int64  \n",
      " 26  Z_Revenue            2240 non-null   int64  \n",
      " 27  Response             2240 non-null   int64  \n",
      " 28  years                2240 non-null   int64  \n",
      "dtypes: float64(1), int64(25), object(3)\n",
      "memory usage: 507.6+ KB\n"
     ]
    }
   ],
   "source": [
    "data.info()"
   ]
  },
  {
   "cell_type": "code",
   "execution_count": 6,
   "id": "d3b945b0",
   "metadata": {
    "execution": {
     "iopub.execute_input": "2022-02-19T15:30:56.423473Z",
     "iopub.status.busy": "2022-02-19T15:30:56.422774Z",
     "iopub.status.idle": "2022-02-19T15:30:56.506997Z",
     "shell.execute_reply": "2022-02-19T15:30:56.507452Z",
     "shell.execute_reply.started": "2022-02-19T14:13:03.592928Z"
    },
    "papermill": {
     "duration": 0.130455,
     "end_time": "2022-02-19T15:30:56.507626",
     "exception": false,
     "start_time": "2022-02-19T15:30:56.377171",
     "status": "completed"
    },
    "tags": []
   },
   "outputs": [
    {
     "data": {
      "text/html": [
       "<div>\n",
       "<style scoped>\n",
       "    .dataframe tbody tr th:only-of-type {\n",
       "        vertical-align: middle;\n",
       "    }\n",
       "\n",
       "    .dataframe tbody tr th {\n",
       "        vertical-align: top;\n",
       "    }\n",
       "\n",
       "    .dataframe thead th {\n",
       "        text-align: right;\n",
       "    }\n",
       "</style>\n",
       "<table border=\"1\" class=\"dataframe\">\n",
       "  <thead>\n",
       "    <tr style=\"text-align: right;\">\n",
       "      <th></th>\n",
       "      <th>count</th>\n",
       "      <th>mean</th>\n",
       "      <th>std</th>\n",
       "      <th>min</th>\n",
       "      <th>25%</th>\n",
       "      <th>50%</th>\n",
       "      <th>75%</th>\n",
       "      <th>max</th>\n",
       "    </tr>\n",
       "  </thead>\n",
       "  <tbody>\n",
       "    <tr>\n",
       "      <th>Year_Birth</th>\n",
       "      <td>2240.0</td>\n",
       "      <td>1968.805804</td>\n",
       "      <td>11.984069</td>\n",
       "      <td>1893.0</td>\n",
       "      <td>1959.00</td>\n",
       "      <td>1970.0</td>\n",
       "      <td>1977.00</td>\n",
       "      <td>1996.0</td>\n",
       "    </tr>\n",
       "    <tr>\n",
       "      <th>Income</th>\n",
       "      <td>2216.0</td>\n",
       "      <td>52247.251354</td>\n",
       "      <td>25173.076661</td>\n",
       "      <td>1730.0</td>\n",
       "      <td>35303.00</td>\n",
       "      <td>51381.5</td>\n",
       "      <td>68522.00</td>\n",
       "      <td>666666.0</td>\n",
       "    </tr>\n",
       "    <tr>\n",
       "      <th>Kidhome</th>\n",
       "      <td>2240.0</td>\n",
       "      <td>0.444196</td>\n",
       "      <td>0.538398</td>\n",
       "      <td>0.0</td>\n",
       "      <td>0.00</td>\n",
       "      <td>0.0</td>\n",
       "      <td>1.00</td>\n",
       "      <td>2.0</td>\n",
       "    </tr>\n",
       "    <tr>\n",
       "      <th>Teenhome</th>\n",
       "      <td>2240.0</td>\n",
       "      <td>0.506250</td>\n",
       "      <td>0.544538</td>\n",
       "      <td>0.0</td>\n",
       "      <td>0.00</td>\n",
       "      <td>0.0</td>\n",
       "      <td>1.00</td>\n",
       "      <td>2.0</td>\n",
       "    </tr>\n",
       "    <tr>\n",
       "      <th>Recency</th>\n",
       "      <td>2240.0</td>\n",
       "      <td>49.109375</td>\n",
       "      <td>28.962453</td>\n",
       "      <td>0.0</td>\n",
       "      <td>24.00</td>\n",
       "      <td>49.0</td>\n",
       "      <td>74.00</td>\n",
       "      <td>99.0</td>\n",
       "    </tr>\n",
       "    <tr>\n",
       "      <th>MntWines</th>\n",
       "      <td>2240.0</td>\n",
       "      <td>303.935714</td>\n",
       "      <td>336.597393</td>\n",
       "      <td>0.0</td>\n",
       "      <td>23.75</td>\n",
       "      <td>173.5</td>\n",
       "      <td>504.25</td>\n",
       "      <td>1493.0</td>\n",
       "    </tr>\n",
       "    <tr>\n",
       "      <th>MntFruits</th>\n",
       "      <td>2240.0</td>\n",
       "      <td>26.302232</td>\n",
       "      <td>39.773434</td>\n",
       "      <td>0.0</td>\n",
       "      <td>1.00</td>\n",
       "      <td>8.0</td>\n",
       "      <td>33.00</td>\n",
       "      <td>199.0</td>\n",
       "    </tr>\n",
       "    <tr>\n",
       "      <th>MntMeatProducts</th>\n",
       "      <td>2240.0</td>\n",
       "      <td>166.950000</td>\n",
       "      <td>225.715373</td>\n",
       "      <td>0.0</td>\n",
       "      <td>16.00</td>\n",
       "      <td>67.0</td>\n",
       "      <td>232.00</td>\n",
       "      <td>1725.0</td>\n",
       "    </tr>\n",
       "    <tr>\n",
       "      <th>MntFishProducts</th>\n",
       "      <td>2240.0</td>\n",
       "      <td>37.525446</td>\n",
       "      <td>54.628979</td>\n",
       "      <td>0.0</td>\n",
       "      <td>3.00</td>\n",
       "      <td>12.0</td>\n",
       "      <td>50.00</td>\n",
       "      <td>259.0</td>\n",
       "    </tr>\n",
       "    <tr>\n",
       "      <th>MntSweetProducts</th>\n",
       "      <td>2240.0</td>\n",
       "      <td>27.062946</td>\n",
       "      <td>41.280498</td>\n",
       "      <td>0.0</td>\n",
       "      <td>1.00</td>\n",
       "      <td>8.0</td>\n",
       "      <td>33.00</td>\n",
       "      <td>263.0</td>\n",
       "    </tr>\n",
       "    <tr>\n",
       "      <th>MntGoldProds</th>\n",
       "      <td>2240.0</td>\n",
       "      <td>44.021875</td>\n",
       "      <td>52.167439</td>\n",
       "      <td>0.0</td>\n",
       "      <td>9.00</td>\n",
       "      <td>24.0</td>\n",
       "      <td>56.00</td>\n",
       "      <td>362.0</td>\n",
       "    </tr>\n",
       "    <tr>\n",
       "      <th>NumDealsPurchases</th>\n",
       "      <td>2240.0</td>\n",
       "      <td>2.325000</td>\n",
       "      <td>1.932238</td>\n",
       "      <td>0.0</td>\n",
       "      <td>1.00</td>\n",
       "      <td>2.0</td>\n",
       "      <td>3.00</td>\n",
       "      <td>15.0</td>\n",
       "    </tr>\n",
       "    <tr>\n",
       "      <th>NumWebPurchases</th>\n",
       "      <td>2240.0</td>\n",
       "      <td>4.084821</td>\n",
       "      <td>2.778714</td>\n",
       "      <td>0.0</td>\n",
       "      <td>2.00</td>\n",
       "      <td>4.0</td>\n",
       "      <td>6.00</td>\n",
       "      <td>27.0</td>\n",
       "    </tr>\n",
       "    <tr>\n",
       "      <th>NumCatalogPurchases</th>\n",
       "      <td>2240.0</td>\n",
       "      <td>2.662054</td>\n",
       "      <td>2.923101</td>\n",
       "      <td>0.0</td>\n",
       "      <td>0.00</td>\n",
       "      <td>2.0</td>\n",
       "      <td>4.00</td>\n",
       "      <td>28.0</td>\n",
       "    </tr>\n",
       "    <tr>\n",
       "      <th>NumStorePurchases</th>\n",
       "      <td>2240.0</td>\n",
       "      <td>5.790179</td>\n",
       "      <td>3.250958</td>\n",
       "      <td>0.0</td>\n",
       "      <td>3.00</td>\n",
       "      <td>5.0</td>\n",
       "      <td>8.00</td>\n",
       "      <td>13.0</td>\n",
       "    </tr>\n",
       "    <tr>\n",
       "      <th>NumWebVisitsMonth</th>\n",
       "      <td>2240.0</td>\n",
       "      <td>5.316518</td>\n",
       "      <td>2.426645</td>\n",
       "      <td>0.0</td>\n",
       "      <td>3.00</td>\n",
       "      <td>6.0</td>\n",
       "      <td>7.00</td>\n",
       "      <td>20.0</td>\n",
       "    </tr>\n",
       "    <tr>\n",
       "      <th>AcceptedCmp3</th>\n",
       "      <td>2240.0</td>\n",
       "      <td>0.072768</td>\n",
       "      <td>0.259813</td>\n",
       "      <td>0.0</td>\n",
       "      <td>0.00</td>\n",
       "      <td>0.0</td>\n",
       "      <td>0.00</td>\n",
       "      <td>1.0</td>\n",
       "    </tr>\n",
       "    <tr>\n",
       "      <th>AcceptedCmp4</th>\n",
       "      <td>2240.0</td>\n",
       "      <td>0.074554</td>\n",
       "      <td>0.262728</td>\n",
       "      <td>0.0</td>\n",
       "      <td>0.00</td>\n",
       "      <td>0.0</td>\n",
       "      <td>0.00</td>\n",
       "      <td>1.0</td>\n",
       "    </tr>\n",
       "    <tr>\n",
       "      <th>AcceptedCmp5</th>\n",
       "      <td>2240.0</td>\n",
       "      <td>0.072768</td>\n",
       "      <td>0.259813</td>\n",
       "      <td>0.0</td>\n",
       "      <td>0.00</td>\n",
       "      <td>0.0</td>\n",
       "      <td>0.00</td>\n",
       "      <td>1.0</td>\n",
       "    </tr>\n",
       "    <tr>\n",
       "      <th>AcceptedCmp1</th>\n",
       "      <td>2240.0</td>\n",
       "      <td>0.064286</td>\n",
       "      <td>0.245316</td>\n",
       "      <td>0.0</td>\n",
       "      <td>0.00</td>\n",
       "      <td>0.0</td>\n",
       "      <td>0.00</td>\n",
       "      <td>1.0</td>\n",
       "    </tr>\n",
       "    <tr>\n",
       "      <th>AcceptedCmp2</th>\n",
       "      <td>2240.0</td>\n",
       "      <td>0.013393</td>\n",
       "      <td>0.114976</td>\n",
       "      <td>0.0</td>\n",
       "      <td>0.00</td>\n",
       "      <td>0.0</td>\n",
       "      <td>0.00</td>\n",
       "      <td>1.0</td>\n",
       "    </tr>\n",
       "    <tr>\n",
       "      <th>Complain</th>\n",
       "      <td>2240.0</td>\n",
       "      <td>0.009375</td>\n",
       "      <td>0.096391</td>\n",
       "      <td>0.0</td>\n",
       "      <td>0.00</td>\n",
       "      <td>0.0</td>\n",
       "      <td>0.00</td>\n",
       "      <td>1.0</td>\n",
       "    </tr>\n",
       "    <tr>\n",
       "      <th>Z_CostContact</th>\n",
       "      <td>2240.0</td>\n",
       "      <td>3.000000</td>\n",
       "      <td>0.000000</td>\n",
       "      <td>3.0</td>\n",
       "      <td>3.00</td>\n",
       "      <td>3.0</td>\n",
       "      <td>3.00</td>\n",
       "      <td>3.0</td>\n",
       "    </tr>\n",
       "    <tr>\n",
       "      <th>Z_Revenue</th>\n",
       "      <td>2240.0</td>\n",
       "      <td>11.000000</td>\n",
       "      <td>0.000000</td>\n",
       "      <td>11.0</td>\n",
       "      <td>11.00</td>\n",
       "      <td>11.0</td>\n",
       "      <td>11.00</td>\n",
       "      <td>11.0</td>\n",
       "    </tr>\n",
       "    <tr>\n",
       "      <th>Response</th>\n",
       "      <td>2240.0</td>\n",
       "      <td>0.149107</td>\n",
       "      <td>0.356274</td>\n",
       "      <td>0.0</td>\n",
       "      <td>0.00</td>\n",
       "      <td>0.0</td>\n",
       "      <td>0.00</td>\n",
       "      <td>1.0</td>\n",
       "    </tr>\n",
       "    <tr>\n",
       "      <th>years</th>\n",
       "      <td>2240.0</td>\n",
       "      <td>8.971875</td>\n",
       "      <td>0.684554</td>\n",
       "      <td>8.0</td>\n",
       "      <td>9.00</td>\n",
       "      <td>9.0</td>\n",
       "      <td>9.00</td>\n",
       "      <td>10.0</td>\n",
       "    </tr>\n",
       "  </tbody>\n",
       "</table>\n",
       "</div>"
      ],
      "text/plain": [
       "                      count          mean           std     min       25%  \\\n",
       "Year_Birth           2240.0   1968.805804     11.984069  1893.0   1959.00   \n",
       "Income               2216.0  52247.251354  25173.076661  1730.0  35303.00   \n",
       "Kidhome              2240.0      0.444196      0.538398     0.0      0.00   \n",
       "Teenhome             2240.0      0.506250      0.544538     0.0      0.00   \n",
       "Recency              2240.0     49.109375     28.962453     0.0     24.00   \n",
       "MntWines             2240.0    303.935714    336.597393     0.0     23.75   \n",
       "MntFruits            2240.0     26.302232     39.773434     0.0      1.00   \n",
       "MntMeatProducts      2240.0    166.950000    225.715373     0.0     16.00   \n",
       "MntFishProducts      2240.0     37.525446     54.628979     0.0      3.00   \n",
       "MntSweetProducts     2240.0     27.062946     41.280498     0.0      1.00   \n",
       "MntGoldProds         2240.0     44.021875     52.167439     0.0      9.00   \n",
       "NumDealsPurchases    2240.0      2.325000      1.932238     0.0      1.00   \n",
       "NumWebPurchases      2240.0      4.084821      2.778714     0.0      2.00   \n",
       "NumCatalogPurchases  2240.0      2.662054      2.923101     0.0      0.00   \n",
       "NumStorePurchases    2240.0      5.790179      3.250958     0.0      3.00   \n",
       "NumWebVisitsMonth    2240.0      5.316518      2.426645     0.0      3.00   \n",
       "AcceptedCmp3         2240.0      0.072768      0.259813     0.0      0.00   \n",
       "AcceptedCmp4         2240.0      0.074554      0.262728     0.0      0.00   \n",
       "AcceptedCmp5         2240.0      0.072768      0.259813     0.0      0.00   \n",
       "AcceptedCmp1         2240.0      0.064286      0.245316     0.0      0.00   \n",
       "AcceptedCmp2         2240.0      0.013393      0.114976     0.0      0.00   \n",
       "Complain             2240.0      0.009375      0.096391     0.0      0.00   \n",
       "Z_CostContact        2240.0      3.000000      0.000000     3.0      3.00   \n",
       "Z_Revenue            2240.0     11.000000      0.000000    11.0     11.00   \n",
       "Response             2240.0      0.149107      0.356274     0.0      0.00   \n",
       "years                2240.0      8.971875      0.684554     8.0      9.00   \n",
       "\n",
       "                         50%       75%       max  \n",
       "Year_Birth            1970.0   1977.00    1996.0  \n",
       "Income               51381.5  68522.00  666666.0  \n",
       "Kidhome                  0.0      1.00       2.0  \n",
       "Teenhome                 0.0      1.00       2.0  \n",
       "Recency                 49.0     74.00      99.0  \n",
       "MntWines               173.5    504.25    1493.0  \n",
       "MntFruits                8.0     33.00     199.0  \n",
       "MntMeatProducts         67.0    232.00    1725.0  \n",
       "MntFishProducts         12.0     50.00     259.0  \n",
       "MntSweetProducts         8.0     33.00     263.0  \n",
       "MntGoldProds            24.0     56.00     362.0  \n",
       "NumDealsPurchases        2.0      3.00      15.0  \n",
       "NumWebPurchases          4.0      6.00      27.0  \n",
       "NumCatalogPurchases      2.0      4.00      28.0  \n",
       "NumStorePurchases        5.0      8.00      13.0  \n",
       "NumWebVisitsMonth        6.0      7.00      20.0  \n",
       "AcceptedCmp3             0.0      0.00       1.0  \n",
       "AcceptedCmp4             0.0      0.00       1.0  \n",
       "AcceptedCmp5             0.0      0.00       1.0  \n",
       "AcceptedCmp1             0.0      0.00       1.0  \n",
       "AcceptedCmp2             0.0      0.00       1.0  \n",
       "Complain                 0.0      0.00       1.0  \n",
       "Z_CostContact            3.0      3.00       3.0  \n",
       "Z_Revenue               11.0     11.00      11.0  \n",
       "Response                 0.0      0.00       1.0  \n",
       "years                    9.0      9.00      10.0  "
      ]
     },
     "execution_count": 6,
     "metadata": {},
     "output_type": "execute_result"
    }
   ],
   "source": [
    "data.describe().T"
   ]
  },
  {
   "cell_type": "code",
   "execution_count": 7,
   "id": "9fcdb3cb",
   "metadata": {
    "execution": {
     "iopub.execute_input": "2022-02-19T15:30:56.600459Z",
     "iopub.status.busy": "2022-02-19T15:30:56.599449Z",
     "iopub.status.idle": "2022-02-19T15:30:56.608410Z",
     "shell.execute_reply": "2022-02-19T15:30:56.608984Z",
     "shell.execute_reply.started": "2022-02-19T14:13:03.696537Z"
    },
    "papermill": {
     "duration": 0.057487,
     "end_time": "2022-02-19T15:30:56.609150",
     "exception": false,
     "start_time": "2022-02-19T15:30:56.551663",
     "status": "completed"
    },
    "tags": []
   },
   "outputs": [],
   "source": [
    "dummy = pd.get_dummies(data[[\"Education\",\"Marital_Status\"]], drop_first=True, dtype=\"int\")"
   ]
  },
  {
   "cell_type": "code",
   "execution_count": 8,
   "id": "5b290b88",
   "metadata": {
    "execution": {
     "iopub.execute_input": "2022-02-19T15:30:56.702341Z",
     "iopub.status.busy": "2022-02-19T15:30:56.701350Z",
     "iopub.status.idle": "2022-02-19T15:30:56.716163Z",
     "shell.execute_reply": "2022-02-19T15:30:56.716783Z",
     "shell.execute_reply.started": "2022-02-19T14:13:03.710945Z"
    },
    "papermill": {
     "duration": 0.064062,
     "end_time": "2022-02-19T15:30:56.716969",
     "exception": false,
     "start_time": "2022-02-19T15:30:56.652907",
     "status": "completed"
    },
    "tags": []
   },
   "outputs": [
    {
     "data": {
      "text/html": [
       "<div>\n",
       "<style scoped>\n",
       "    .dataframe tbody tr th:only-of-type {\n",
       "        vertical-align: middle;\n",
       "    }\n",
       "\n",
       "    .dataframe tbody tr th {\n",
       "        vertical-align: top;\n",
       "    }\n",
       "\n",
       "    .dataframe thead th {\n",
       "        text-align: right;\n",
       "    }\n",
       "</style>\n",
       "<table border=\"1\" class=\"dataframe\">\n",
       "  <thead>\n",
       "    <tr style=\"text-align: right;\">\n",
       "      <th></th>\n",
       "      <th>Education_Basic</th>\n",
       "      <th>Education_Graduation</th>\n",
       "      <th>Education_Master</th>\n",
       "      <th>Education_PhD</th>\n",
       "      <th>Marital_Status_Alone</th>\n",
       "      <th>Marital_Status_Divorced</th>\n",
       "      <th>Marital_Status_Married</th>\n",
       "      <th>Marital_Status_Single</th>\n",
       "      <th>Marital_Status_Together</th>\n",
       "      <th>Marital_Status_Widow</th>\n",
       "      <th>Marital_Status_YOLO</th>\n",
       "    </tr>\n",
       "  </thead>\n",
       "  <tbody>\n",
       "    <tr>\n",
       "      <th>0</th>\n",
       "      <td>0</td>\n",
       "      <td>1</td>\n",
       "      <td>0</td>\n",
       "      <td>0</td>\n",
       "      <td>0</td>\n",
       "      <td>0</td>\n",
       "      <td>0</td>\n",
       "      <td>1</td>\n",
       "      <td>0</td>\n",
       "      <td>0</td>\n",
       "      <td>0</td>\n",
       "    </tr>\n",
       "    <tr>\n",
       "      <th>1</th>\n",
       "      <td>0</td>\n",
       "      <td>1</td>\n",
       "      <td>0</td>\n",
       "      <td>0</td>\n",
       "      <td>0</td>\n",
       "      <td>0</td>\n",
       "      <td>0</td>\n",
       "      <td>1</td>\n",
       "      <td>0</td>\n",
       "      <td>0</td>\n",
       "      <td>0</td>\n",
       "    </tr>\n",
       "    <tr>\n",
       "      <th>2</th>\n",
       "      <td>0</td>\n",
       "      <td>1</td>\n",
       "      <td>0</td>\n",
       "      <td>0</td>\n",
       "      <td>0</td>\n",
       "      <td>0</td>\n",
       "      <td>0</td>\n",
       "      <td>0</td>\n",
       "      <td>1</td>\n",
       "      <td>0</td>\n",
       "      <td>0</td>\n",
       "    </tr>\n",
       "    <tr>\n",
       "      <th>3</th>\n",
       "      <td>0</td>\n",
       "      <td>1</td>\n",
       "      <td>0</td>\n",
       "      <td>0</td>\n",
       "      <td>0</td>\n",
       "      <td>0</td>\n",
       "      <td>0</td>\n",
       "      <td>0</td>\n",
       "      <td>1</td>\n",
       "      <td>0</td>\n",
       "      <td>0</td>\n",
       "    </tr>\n",
       "    <tr>\n",
       "      <th>4</th>\n",
       "      <td>0</td>\n",
       "      <td>0</td>\n",
       "      <td>0</td>\n",
       "      <td>1</td>\n",
       "      <td>0</td>\n",
       "      <td>0</td>\n",
       "      <td>1</td>\n",
       "      <td>0</td>\n",
       "      <td>0</td>\n",
       "      <td>0</td>\n",
       "      <td>0</td>\n",
       "    </tr>\n",
       "    <tr>\n",
       "      <th>...</th>\n",
       "      <td>...</td>\n",
       "      <td>...</td>\n",
       "      <td>...</td>\n",
       "      <td>...</td>\n",
       "      <td>...</td>\n",
       "      <td>...</td>\n",
       "      <td>...</td>\n",
       "      <td>...</td>\n",
       "      <td>...</td>\n",
       "      <td>...</td>\n",
       "      <td>...</td>\n",
       "    </tr>\n",
       "    <tr>\n",
       "      <th>2235</th>\n",
       "      <td>0</td>\n",
       "      <td>1</td>\n",
       "      <td>0</td>\n",
       "      <td>0</td>\n",
       "      <td>0</td>\n",
       "      <td>0</td>\n",
       "      <td>1</td>\n",
       "      <td>0</td>\n",
       "      <td>0</td>\n",
       "      <td>0</td>\n",
       "      <td>0</td>\n",
       "    </tr>\n",
       "    <tr>\n",
       "      <th>2236</th>\n",
       "      <td>0</td>\n",
       "      <td>0</td>\n",
       "      <td>0</td>\n",
       "      <td>1</td>\n",
       "      <td>0</td>\n",
       "      <td>0</td>\n",
       "      <td>0</td>\n",
       "      <td>0</td>\n",
       "      <td>1</td>\n",
       "      <td>0</td>\n",
       "      <td>0</td>\n",
       "    </tr>\n",
       "    <tr>\n",
       "      <th>2237</th>\n",
       "      <td>0</td>\n",
       "      <td>1</td>\n",
       "      <td>0</td>\n",
       "      <td>0</td>\n",
       "      <td>0</td>\n",
       "      <td>1</td>\n",
       "      <td>0</td>\n",
       "      <td>0</td>\n",
       "      <td>0</td>\n",
       "      <td>0</td>\n",
       "      <td>0</td>\n",
       "    </tr>\n",
       "    <tr>\n",
       "      <th>2238</th>\n",
       "      <td>0</td>\n",
       "      <td>0</td>\n",
       "      <td>1</td>\n",
       "      <td>0</td>\n",
       "      <td>0</td>\n",
       "      <td>0</td>\n",
       "      <td>0</td>\n",
       "      <td>0</td>\n",
       "      <td>1</td>\n",
       "      <td>0</td>\n",
       "      <td>0</td>\n",
       "    </tr>\n",
       "    <tr>\n",
       "      <th>2239</th>\n",
       "      <td>0</td>\n",
       "      <td>0</td>\n",
       "      <td>0</td>\n",
       "      <td>1</td>\n",
       "      <td>0</td>\n",
       "      <td>0</td>\n",
       "      <td>1</td>\n",
       "      <td>0</td>\n",
       "      <td>0</td>\n",
       "      <td>0</td>\n",
       "      <td>0</td>\n",
       "    </tr>\n",
       "  </tbody>\n",
       "</table>\n",
       "<p>2240 rows × 11 columns</p>\n",
       "</div>"
      ],
      "text/plain": [
       "      Education_Basic  Education_Graduation  Education_Master  Education_PhD  \\\n",
       "0                   0                     1                 0              0   \n",
       "1                   0                     1                 0              0   \n",
       "2                   0                     1                 0              0   \n",
       "3                   0                     1                 0              0   \n",
       "4                   0                     0                 0              1   \n",
       "...               ...                   ...               ...            ...   \n",
       "2235                0                     1                 0              0   \n",
       "2236                0                     0                 0              1   \n",
       "2237                0                     1                 0              0   \n",
       "2238                0                     0                 1              0   \n",
       "2239                0                     0                 0              1   \n",
       "\n",
       "      Marital_Status_Alone  Marital_Status_Divorced  Marital_Status_Married  \\\n",
       "0                        0                        0                       0   \n",
       "1                        0                        0                       0   \n",
       "2                        0                        0                       0   \n",
       "3                        0                        0                       0   \n",
       "4                        0                        0                       1   \n",
       "...                    ...                      ...                     ...   \n",
       "2235                     0                        0                       1   \n",
       "2236                     0                        0                       0   \n",
       "2237                     0                        1                       0   \n",
       "2238                     0                        0                       0   \n",
       "2239                     0                        0                       1   \n",
       "\n",
       "      Marital_Status_Single  Marital_Status_Together  Marital_Status_Widow  \\\n",
       "0                         1                        0                     0   \n",
       "1                         1                        0                     0   \n",
       "2                         0                        1                     0   \n",
       "3                         0                        1                     0   \n",
       "4                         0                        0                     0   \n",
       "...                     ...                      ...                   ...   \n",
       "2235                      0                        0                     0   \n",
       "2236                      0                        1                     0   \n",
       "2237                      0                        0                     0   \n",
       "2238                      0                        1                     0   \n",
       "2239                      0                        0                     0   \n",
       "\n",
       "      Marital_Status_YOLO  \n",
       "0                       0  \n",
       "1                       0  \n",
       "2                       0  \n",
       "3                       0  \n",
       "4                       0  \n",
       "...                   ...  \n",
       "2235                    0  \n",
       "2236                    0  \n",
       "2237                    0  \n",
       "2238                    0  \n",
       "2239                    0  \n",
       "\n",
       "[2240 rows x 11 columns]"
      ]
     },
     "execution_count": 8,
     "metadata": {},
     "output_type": "execute_result"
    }
   ],
   "source": [
    "dummy"
   ]
  },
  {
   "cell_type": "code",
   "execution_count": 9,
   "id": "531adf34",
   "metadata": {
    "execution": {
     "iopub.execute_input": "2022-02-19T15:30:56.810469Z",
     "iopub.status.busy": "2022-02-19T15:30:56.809497Z",
     "iopub.status.idle": "2022-02-19T15:30:56.831235Z",
     "shell.execute_reply": "2022-02-19T15:30:56.831770Z",
     "shell.execute_reply.started": "2022-02-19T14:13:03.735462Z"
    },
    "papermill": {
     "duration": 0.070381,
     "end_time": "2022-02-19T15:30:56.831962",
     "exception": false,
     "start_time": "2022-02-19T15:30:56.761581",
     "status": "completed"
    },
    "tags": []
   },
   "outputs": [
    {
     "data": {
      "text/html": [
       "<div>\n",
       "<style scoped>\n",
       "    .dataframe tbody tr th:only-of-type {\n",
       "        vertical-align: middle;\n",
       "    }\n",
       "\n",
       "    .dataframe tbody tr th {\n",
       "        vertical-align: top;\n",
       "    }\n",
       "\n",
       "    .dataframe thead th {\n",
       "        text-align: right;\n",
       "    }\n",
       "</style>\n",
       "<table border=\"1\" class=\"dataframe\">\n",
       "  <thead>\n",
       "    <tr style=\"text-align: right;\">\n",
       "      <th></th>\n",
       "      <th>Year_Birth</th>\n",
       "      <th>Income</th>\n",
       "      <th>Kidhome</th>\n",
       "      <th>Teenhome</th>\n",
       "      <th>Dt_Customer</th>\n",
       "      <th>Recency</th>\n",
       "      <th>MntWines</th>\n",
       "      <th>MntFruits</th>\n",
       "      <th>MntMeatProducts</th>\n",
       "      <th>MntFishProducts</th>\n",
       "      <th>...</th>\n",
       "      <th>Education_Graduation</th>\n",
       "      <th>Education_Master</th>\n",
       "      <th>Education_PhD</th>\n",
       "      <th>Marital_Status_Alone</th>\n",
       "      <th>Marital_Status_Divorced</th>\n",
       "      <th>Marital_Status_Married</th>\n",
       "      <th>Marital_Status_Single</th>\n",
       "      <th>Marital_Status_Together</th>\n",
       "      <th>Marital_Status_Widow</th>\n",
       "      <th>Marital_Status_YOLO</th>\n",
       "    </tr>\n",
       "  </thead>\n",
       "  <tbody>\n",
       "    <tr>\n",
       "      <th>0</th>\n",
       "      <td>1957</td>\n",
       "      <td>58138.0</td>\n",
       "      <td>0</td>\n",
       "      <td>0</td>\n",
       "      <td>04-09-2012</td>\n",
       "      <td>58</td>\n",
       "      <td>635</td>\n",
       "      <td>88</td>\n",
       "      <td>546</td>\n",
       "      <td>172</td>\n",
       "      <td>...</td>\n",
       "      <td>1</td>\n",
       "      <td>0</td>\n",
       "      <td>0</td>\n",
       "      <td>0</td>\n",
       "      <td>0</td>\n",
       "      <td>0</td>\n",
       "      <td>1</td>\n",
       "      <td>0</td>\n",
       "      <td>0</td>\n",
       "      <td>0</td>\n",
       "    </tr>\n",
       "    <tr>\n",
       "      <th>1</th>\n",
       "      <td>1954</td>\n",
       "      <td>46344.0</td>\n",
       "      <td>1</td>\n",
       "      <td>1</td>\n",
       "      <td>08-03-2014</td>\n",
       "      <td>38</td>\n",
       "      <td>11</td>\n",
       "      <td>1</td>\n",
       "      <td>6</td>\n",
       "      <td>2</td>\n",
       "      <td>...</td>\n",
       "      <td>1</td>\n",
       "      <td>0</td>\n",
       "      <td>0</td>\n",
       "      <td>0</td>\n",
       "      <td>0</td>\n",
       "      <td>0</td>\n",
       "      <td>1</td>\n",
       "      <td>0</td>\n",
       "      <td>0</td>\n",
       "      <td>0</td>\n",
       "    </tr>\n",
       "    <tr>\n",
       "      <th>2</th>\n",
       "      <td>1965</td>\n",
       "      <td>71613.0</td>\n",
       "      <td>0</td>\n",
       "      <td>0</td>\n",
       "      <td>21-08-2013</td>\n",
       "      <td>26</td>\n",
       "      <td>426</td>\n",
       "      <td>49</td>\n",
       "      <td>127</td>\n",
       "      <td>111</td>\n",
       "      <td>...</td>\n",
       "      <td>1</td>\n",
       "      <td>0</td>\n",
       "      <td>0</td>\n",
       "      <td>0</td>\n",
       "      <td>0</td>\n",
       "      <td>0</td>\n",
       "      <td>0</td>\n",
       "      <td>1</td>\n",
       "      <td>0</td>\n",
       "      <td>0</td>\n",
       "    </tr>\n",
       "    <tr>\n",
       "      <th>3</th>\n",
       "      <td>1984</td>\n",
       "      <td>26646.0</td>\n",
       "      <td>1</td>\n",
       "      <td>0</td>\n",
       "      <td>10-02-2014</td>\n",
       "      <td>26</td>\n",
       "      <td>11</td>\n",
       "      <td>4</td>\n",
       "      <td>20</td>\n",
       "      <td>10</td>\n",
       "      <td>...</td>\n",
       "      <td>1</td>\n",
       "      <td>0</td>\n",
       "      <td>0</td>\n",
       "      <td>0</td>\n",
       "      <td>0</td>\n",
       "      <td>0</td>\n",
       "      <td>0</td>\n",
       "      <td>1</td>\n",
       "      <td>0</td>\n",
       "      <td>0</td>\n",
       "    </tr>\n",
       "    <tr>\n",
       "      <th>4</th>\n",
       "      <td>1981</td>\n",
       "      <td>58293.0</td>\n",
       "      <td>1</td>\n",
       "      <td>0</td>\n",
       "      <td>19-01-2014</td>\n",
       "      <td>94</td>\n",
       "      <td>173</td>\n",
       "      <td>43</td>\n",
       "      <td>118</td>\n",
       "      <td>46</td>\n",
       "      <td>...</td>\n",
       "      <td>0</td>\n",
       "      <td>0</td>\n",
       "      <td>1</td>\n",
       "      <td>0</td>\n",
       "      <td>0</td>\n",
       "      <td>1</td>\n",
       "      <td>0</td>\n",
       "      <td>0</td>\n",
       "      <td>0</td>\n",
       "      <td>0</td>\n",
       "    </tr>\n",
       "  </tbody>\n",
       "</table>\n",
       "<p>5 rows × 38 columns</p>\n",
       "</div>"
      ],
      "text/plain": [
       "   Year_Birth   Income  Kidhome  Teenhome Dt_Customer  Recency  MntWines  \\\n",
       "0        1957  58138.0        0         0  04-09-2012       58       635   \n",
       "1        1954  46344.0        1         1  08-03-2014       38        11   \n",
       "2        1965  71613.0        0         0  21-08-2013       26       426   \n",
       "3        1984  26646.0        1         0  10-02-2014       26        11   \n",
       "4        1981  58293.0        1         0  19-01-2014       94       173   \n",
       "\n",
       "   MntFruits  MntMeatProducts  MntFishProducts  ...  Education_Graduation  \\\n",
       "0         88              546              172  ...                     1   \n",
       "1          1                6                2  ...                     1   \n",
       "2         49              127              111  ...                     1   \n",
       "3          4               20               10  ...                     1   \n",
       "4         43              118               46  ...                     0   \n",
       "\n",
       "   Education_Master  Education_PhD  Marital_Status_Alone  \\\n",
       "0                 0              0                     0   \n",
       "1                 0              0                     0   \n",
       "2                 0              0                     0   \n",
       "3                 0              0                     0   \n",
       "4                 0              1                     0   \n",
       "\n",
       "   Marital_Status_Divorced  Marital_Status_Married  Marital_Status_Single  \\\n",
       "0                        0                       0                      1   \n",
       "1                        0                       0                      1   \n",
       "2                        0                       0                      0   \n",
       "3                        0                       0                      0   \n",
       "4                        0                       1                      0   \n",
       "\n",
       "   Marital_Status_Together  Marital_Status_Widow  Marital_Status_YOLO  \n",
       "0                        0                     0                    0  \n",
       "1                        0                     0                    0  \n",
       "2                        1                     0                    0  \n",
       "3                        1                     0                    0  \n",
       "4                        0                     0                    0  \n",
       "\n",
       "[5 rows x 38 columns]"
      ]
     },
     "execution_count": 9,
     "metadata": {},
     "output_type": "execute_result"
    }
   ],
   "source": [
    "data.drop([\"Education\", \"Marital_Status\"], axis=1, inplace=True)\n",
    "data = pd.concat([data, dummy], axis=1)\n",
    "data.head()"
   ]
  },
  {
   "cell_type": "code",
   "execution_count": 10,
   "id": "3e6a5d4e",
   "metadata": {
    "execution": {
     "iopub.execute_input": "2022-02-19T15:30:56.928400Z",
     "iopub.status.busy": "2022-02-19T15:30:56.927402Z",
     "iopub.status.idle": "2022-02-19T15:30:56.935868Z",
     "shell.execute_reply": "2022-02-19T15:30:56.936431Z",
     "shell.execute_reply.started": "2022-02-19T14:13:03.770223Z"
    },
    "papermill": {
     "duration": 0.059474,
     "end_time": "2022-02-19T15:30:56.936602",
     "exception": false,
     "start_time": "2022-02-19T15:30:56.877128",
     "status": "completed"
    },
    "tags": []
   },
   "outputs": [],
   "source": [
    "data[\"Age\"] = 2022 - data[\"Year_Birth\"]\n",
    "data.drop([\"Year_Birth\", \"Dt_Customer\"], axis=1, inplace=True)"
   ]
  },
  {
   "cell_type": "code",
   "execution_count": 11,
   "id": "eeb879f0",
   "metadata": {
    "execution": {
     "iopub.execute_input": "2022-02-19T15:30:57.030963Z",
     "iopub.status.busy": "2022-02-19T15:30:57.030326Z",
     "iopub.status.idle": "2022-02-19T15:30:57.036358Z",
     "shell.execute_reply": "2022-02-19T15:30:57.035810Z",
     "shell.execute_reply.started": "2022-02-19T14:13:03.784998Z"
    },
    "papermill": {
     "duration": 0.054419,
     "end_time": "2022-02-19T15:30:57.036493",
     "exception": false,
     "start_time": "2022-02-19T15:30:56.982074",
     "status": "completed"
    },
    "tags": []
   },
   "outputs": [
    {
     "data": {
      "text/plain": [
       "Index(['Income', 'Kidhome', 'Teenhome', 'Recency', 'MntWines', 'MntFruits',\n",
       "       'MntMeatProducts', 'MntFishProducts', 'MntSweetProducts',\n",
       "       'MntGoldProds', 'NumDealsPurchases', 'NumWebPurchases',\n",
       "       'NumCatalogPurchases', 'NumStorePurchases', 'NumWebVisitsMonth',\n",
       "       'AcceptedCmp3', 'AcceptedCmp4', 'AcceptedCmp5', 'AcceptedCmp1',\n",
       "       'AcceptedCmp2', 'Complain', 'Z_CostContact', 'Z_Revenue', 'Response',\n",
       "       'years', 'Education_Basic', 'Education_Graduation', 'Education_Master',\n",
       "       'Education_PhD', 'Marital_Status_Alone', 'Marital_Status_Divorced',\n",
       "       'Marital_Status_Married', 'Marital_Status_Single',\n",
       "       'Marital_Status_Together', 'Marital_Status_Widow',\n",
       "       'Marital_Status_YOLO', 'Age'],\n",
       "      dtype='object')"
      ]
     },
     "execution_count": 11,
     "metadata": {},
     "output_type": "execute_result"
    }
   ],
   "source": [
    "data.columns"
   ]
  },
  {
   "cell_type": "code",
   "execution_count": 12,
   "id": "d69e436d",
   "metadata": {
    "execution": {
     "iopub.execute_input": "2022-02-19T15:30:57.133188Z",
     "iopub.status.busy": "2022-02-19T15:30:57.132548Z",
     "iopub.status.idle": "2022-02-19T15:30:57.137159Z",
     "shell.execute_reply": "2022-02-19T15:30:57.137598Z",
     "shell.execute_reply.started": "2022-02-19T15:23:53.867130Z"
    },
    "papermill": {
     "duration": 0.055321,
     "end_time": "2022-02-19T15:30:57.137761",
     "exception": false,
     "start_time": "2022-02-19T15:30:57.082440",
     "status": "completed"
    },
    "tags": []
   },
   "outputs": [],
   "source": [
    "data[\"Total_Purch\"] = data[\"MntWines\"] + data[\"MntFruits\"] + data[\"MntMeatProducts\"] + data[\"MntFishProducts\"] + data[\"MntSweetProducts\"] + data[\"MntGoldProds\"]"
   ]
  },
  {
   "cell_type": "code",
   "execution_count": 13,
   "id": "52f6c4bb",
   "metadata": {
    "execution": {
     "iopub.execute_input": "2022-02-19T15:30:57.236982Z",
     "iopub.status.busy": "2022-02-19T15:30:57.236319Z",
     "iopub.status.idle": "2022-02-19T15:30:57.246451Z",
     "shell.execute_reply": "2022-02-19T15:30:57.245810Z",
     "shell.execute_reply.started": "2022-02-19T15:23:54.365257Z"
    },
    "papermill": {
     "duration": 0.062552,
     "end_time": "2022-02-19T15:30:57.246589",
     "exception": false,
     "start_time": "2022-02-19T15:30:57.184037",
     "status": "completed"
    },
    "tags": []
   },
   "outputs": [
    {
     "data": {
      "text/plain": [
       "Income                     0\n",
       "Kidhome                    0\n",
       "Teenhome                   0\n",
       "Recency                    0\n",
       "MntWines                   0\n",
       "MntFruits                  0\n",
       "MntMeatProducts            0\n",
       "MntFishProducts            0\n",
       "MntSweetProducts           0\n",
       "MntGoldProds               0\n",
       "NumDealsPurchases          0\n",
       "NumWebPurchases            0\n",
       "NumCatalogPurchases        0\n",
       "NumStorePurchases          0\n",
       "NumWebVisitsMonth          0\n",
       "AcceptedCmp3               0\n",
       "AcceptedCmp4               0\n",
       "AcceptedCmp5               0\n",
       "AcceptedCmp1               0\n",
       "AcceptedCmp2               0\n",
       "Complain                   0\n",
       "Z_CostContact              0\n",
       "Z_Revenue                  0\n",
       "Response                   0\n",
       "years                      0\n",
       "Education_Basic            0\n",
       "Education_Graduation       0\n",
       "Education_Master           0\n",
       "Education_PhD              0\n",
       "Marital_Status_Alone       0\n",
       "Marital_Status_Divorced    0\n",
       "Marital_Status_Married     0\n",
       "Marital_Status_Single      0\n",
       "Marital_Status_Together    0\n",
       "Marital_Status_Widow       0\n",
       "Marital_Status_YOLO        0\n",
       "Age                        0\n",
       "Total_Purch                0\n",
       "dtype: int64"
      ]
     },
     "execution_count": 13,
     "metadata": {},
     "output_type": "execute_result"
    }
   ],
   "source": [
    "data.fillna(data[\"Income\"].describe()[\"mean\"], axis=1, inplace=True)\n",
    "data.isnull().sum()"
   ]
  },
  {
   "cell_type": "code",
   "execution_count": 14,
   "id": "3bf3e2df",
   "metadata": {
    "execution": {
     "iopub.execute_input": "2022-02-19T15:30:57.346164Z",
     "iopub.status.busy": "2022-02-19T15:30:57.345497Z",
     "iopub.status.idle": "2022-02-19T15:30:57.349114Z",
     "shell.execute_reply": "2022-02-19T15:30:57.348603Z",
     "shell.execute_reply.started": "2022-02-19T15:23:55.241887Z"
    },
    "papermill": {
     "duration": 0.056148,
     "end_time": "2022-02-19T15:30:57.349267",
     "exception": false,
     "start_time": "2022-02-19T15:30:57.293119",
     "status": "completed"
    },
    "tags": []
   },
   "outputs": [],
   "source": [
    "X = data.drop(\"MntGoldProds\", axis=1).values\n",
    "y = data[\"MntGoldProds\"].values"
   ]
  },
  {
   "cell_type": "code",
   "execution_count": 15,
   "id": "1ccc9bb3",
   "metadata": {
    "execution": {
     "iopub.execute_input": "2022-02-19T15:30:57.447527Z",
     "iopub.status.busy": "2022-02-19T15:30:57.446566Z",
     "iopub.status.idle": "2022-02-19T15:30:57.452070Z",
     "shell.execute_reply": "2022-02-19T15:30:57.452678Z",
     "shell.execute_reply.started": "2022-02-19T15:23:56.575262Z"
    },
    "papermill": {
     "duration": 0.055521,
     "end_time": "2022-02-19T15:30:57.452867",
     "exception": false,
     "start_time": "2022-02-19T15:30:57.397346",
     "status": "completed"
    },
    "tags": []
   },
   "outputs": [],
   "source": [
    "X_train, X_test, y_train, y_test = train_test_split(X, y, test_size=0.3, random_state=17)"
   ]
  },
  {
   "cell_type": "code",
   "execution_count": 16,
   "id": "bf401500",
   "metadata": {
    "execution": {
     "iopub.execute_input": "2022-02-19T15:30:57.549449Z",
     "iopub.status.busy": "2022-02-19T15:30:57.548491Z",
     "iopub.status.idle": "2022-02-19T15:30:57.576744Z",
     "shell.execute_reply": "2022-02-19T15:30:57.577734Z",
     "shell.execute_reply.started": "2022-02-19T15:23:57.114458Z"
    },
    "papermill": {
     "duration": 0.078925,
     "end_time": "2022-02-19T15:30:57.578059",
     "exception": false,
     "start_time": "2022-02-19T15:30:57.499134",
     "status": "completed"
    },
    "tags": []
   },
   "outputs": [
    {
     "data": {
      "text/plain": [
       "LinearRegression()"
      ]
     },
     "execution_count": 16,
     "metadata": {},
     "output_type": "execute_result"
    }
   ],
   "source": [
    "linear_r = LinearRegression()\n",
    "linear_r.fit(X_train, y_train)"
   ]
  },
  {
   "cell_type": "code",
   "execution_count": 17,
   "id": "83015c62",
   "metadata": {
    "execution": {
     "iopub.execute_input": "2022-02-19T15:30:57.732642Z",
     "iopub.status.busy": "2022-02-19T15:30:57.731183Z",
     "iopub.status.idle": "2022-02-19T15:30:57.736697Z",
     "shell.execute_reply": "2022-02-19T15:30:57.733732Z",
     "shell.execute_reply.started": "2022-02-19T15:24:01.110887Z"
    },
    "papermill": {
     "duration": 0.071777,
     "end_time": "2022-02-19T15:30:57.736966",
     "exception": false,
     "start_time": "2022-02-19T15:30:57.665189",
     "status": "completed"
    },
    "tags": []
   },
   "outputs": [
    {
     "name": "stdout",
     "output_type": "stream",
     "text": [
      "MSE:  1.2120439972328448e-24\n"
     ]
    }
   ],
   "source": [
    "y_pred = linear_r.predict(X_test)\n",
    "print(\"MSE: \",mean_squared_error(y_test, y_pred))"
   ]
  },
  {
   "cell_type": "code",
   "execution_count": 18,
   "id": "299270cc",
   "metadata": {
    "execution": {
     "iopub.execute_input": "2022-02-19T15:30:57.892477Z",
     "iopub.status.busy": "2022-02-19T15:30:57.891810Z",
     "iopub.status.idle": "2022-02-19T15:30:57.894656Z",
     "shell.execute_reply": "2022-02-19T15:30:57.895254Z",
     "shell.execute_reply.started": "2022-02-19T14:15:31.653426Z"
    },
    "papermill": {
     "duration": 0.065817,
     "end_time": "2022-02-19T15:30:57.895421",
     "exception": false,
     "start_time": "2022-02-19T15:30:57.829604",
     "status": "completed"
    },
    "tags": []
   },
   "outputs": [
    {
     "data": {
      "text/plain": [
       "array([ 3.65447760e-17, -1.89674665e-13, -2.66472741e-14, -7.97307983e-16,\n",
       "       -1.00000000e+00, -1.00000000e+00, -1.00000000e+00, -1.00000000e+00,\n",
       "       -1.00000000e+00, -3.26737510e-15, -5.22408386e-15,  2.85005938e-15,\n",
       "        3.34694086e-15,  5.75143791e-16, -2.26969960e-14,  7.47868888e-15,\n",
       "       -1.27708190e-14, -8.95705487e-15, -1.35611509e-14,  7.00067748e-15,\n",
       "       -3.90312782e-18, -6.07153217e-18,  7.22037902e-15, -3.32225863e-16,\n",
       "       -6.92539041e-14, -1.09582795e-15, -5.31589238e-15, -6.76760673e-16,\n",
       "       -4.35020028e-14, -4.75324644e-14, -4.06817430e-14, -5.02516492e-14,\n",
       "       -4.64234797e-14, -4.47321034e-14, -6.92976597e-14,  1.27794910e-15,\n",
       "        1.00000000e+00])"
      ]
     },
     "execution_count": 18,
     "metadata": {},
     "output_type": "execute_result"
    }
   ],
   "source": [
    "linear_r.coef_"
   ]
  },
  {
   "cell_type": "code",
   "execution_count": 19,
   "id": "82231837",
   "metadata": {
    "execution": {
     "iopub.execute_input": "2022-02-19T15:30:57.997068Z",
     "iopub.status.busy": "2022-02-19T15:30:57.994747Z",
     "iopub.status.idle": "2022-02-19T15:30:57.999715Z",
     "shell.execute_reply": "2022-02-19T15:30:58.000245Z",
     "shell.execute_reply.started": "2022-02-19T14:16:01.088682Z"
    },
    "papermill": {
     "duration": 0.055999,
     "end_time": "2022-02-19T15:30:58.000411",
     "exception": false,
     "start_time": "2022-02-19T15:30:57.944412",
     "status": "completed"
    },
    "tags": []
   },
   "outputs": [
    {
     "data": {
      "text/plain": [
       "35"
      ]
     },
     "execution_count": 19,
     "metadata": {},
     "output_type": "execute_result"
    }
   ],
   "source": [
    "linear_r.rank_"
   ]
  },
  {
   "cell_type": "code",
   "execution_count": 20,
   "id": "3691819b",
   "metadata": {
    "execution": {
     "iopub.execute_input": "2022-02-19T15:30:58.100973Z",
     "iopub.status.busy": "2022-02-19T15:30:58.100309Z",
     "iopub.status.idle": "2022-02-19T15:30:58.106626Z",
     "shell.execute_reply": "2022-02-19T15:30:58.106078Z",
     "shell.execute_reply.started": "2022-02-19T14:16:18.977962Z"
    },
    "papermill": {
     "duration": 0.057624,
     "end_time": "2022-02-19T15:30:58.106762",
     "exception": false,
     "start_time": "2022-02-19T15:30:58.049138",
     "status": "completed"
    },
    "tags": []
   },
   "outputs": [
    {
     "data": {
      "text/plain": [
       "array([8.46449454e+05, 1.70863553e+04, 7.14334152e+03, 2.73827214e+03,\n",
       "       1.24014654e+03, 1.15135086e+03, 1.07000542e+03, 6.62639339e+02,\n",
       "       4.49362587e+02, 1.03096836e+02, 8.79653775e+01, 7.28095955e+01,\n",
       "       6.86883854e+01, 5.28115258e+01, 2.48371502e+01, 2.25744088e+01,\n",
       "       2.20705214e+01, 1.91794502e+01, 1.77190249e+01, 1.71872860e+01,\n",
       "       1.49798399e+01, 1.37744463e+01, 1.32729289e+01, 1.05410415e+01,\n",
       "       8.68853373e+00, 8.14189482e+00, 7.85893620e+00, 7.36343744e+00,\n",
       "       7.09092747e+00, 4.60340729e+00, 4.06373287e+00, 3.90695777e+00,\n",
       "       1.58716273e+00, 1.07692425e+00, 5.05435395e-01, 9.39429116e-11,\n",
       "       9.39429116e-11])"
      ]
     },
     "execution_count": 20,
     "metadata": {},
     "output_type": "execute_result"
    }
   ],
   "source": [
    "linear_r.singular_"
   ]
  },
  {
   "cell_type": "code",
   "execution_count": 21,
   "id": "e24c2f32",
   "metadata": {
    "execution": {
     "iopub.execute_input": "2022-02-19T15:30:58.209563Z",
     "iopub.status.busy": "2022-02-19T15:30:58.208882Z",
     "iopub.status.idle": "2022-02-19T15:30:58.212657Z",
     "shell.execute_reply": "2022-02-19T15:30:58.212068Z",
     "shell.execute_reply.started": "2022-02-19T14:16:34.892690Z"
    },
    "papermill": {
     "duration": 0.057084,
     "end_time": "2022-02-19T15:30:58.212795",
     "exception": false,
     "start_time": "2022-02-19T15:30:58.155711",
     "status": "completed"
    },
    "tags": []
   },
   "outputs": [
    {
     "data": {
      "text/plain": [
       "-1.5276668818842154e-12"
      ]
     },
     "execution_count": 21,
     "metadata": {},
     "output_type": "execute_result"
    }
   ],
   "source": [
    "linear_r.intercept_"
   ]
  },
  {
   "cell_type": "code",
   "execution_count": 22,
   "id": "2d59e94c",
   "metadata": {
    "execution": {
     "iopub.execute_input": "2022-02-19T15:30:58.324456Z",
     "iopub.status.busy": "2022-02-19T15:30:58.323648Z",
     "iopub.status.idle": "2022-02-19T15:30:58.326562Z",
     "shell.execute_reply": "2022-02-19T15:30:58.327102Z",
     "shell.execute_reply.started": "2022-02-19T15:24:18.829806Z"
    },
    "papermill": {
     "duration": 0.065438,
     "end_time": "2022-02-19T15:30:58.327277",
     "exception": false,
     "start_time": "2022-02-19T15:30:58.261839",
     "status": "completed"
    },
    "tags": []
   },
   "outputs": [
    {
     "data": {
      "text/html": [
       "<div>\n",
       "<style scoped>\n",
       "    .dataframe tbody tr th:only-of-type {\n",
       "        vertical-align: middle;\n",
       "    }\n",
       "\n",
       "    .dataframe tbody tr th {\n",
       "        vertical-align: top;\n",
       "    }\n",
       "\n",
       "    .dataframe thead th {\n",
       "        text-align: right;\n",
       "    }\n",
       "</style>\n",
       "<table border=\"1\" class=\"dataframe\">\n",
       "  <thead>\n",
       "    <tr style=\"text-align: right;\">\n",
       "      <th></th>\n",
       "      <th>prediction</th>\n",
       "      <th>true</th>\n",
       "    </tr>\n",
       "  </thead>\n",
       "  <tbody>\n",
       "    <tr>\n",
       "      <th>0</th>\n",
       "      <td>5</td>\n",
       "      <td>5</td>\n",
       "    </tr>\n",
       "    <tr>\n",
       "      <th>1</th>\n",
       "      <td>133</td>\n",
       "      <td>133</td>\n",
       "    </tr>\n",
       "    <tr>\n",
       "      <th>2</th>\n",
       "      <td>43</td>\n",
       "      <td>43</td>\n",
       "    </tr>\n",
       "    <tr>\n",
       "      <th>3</th>\n",
       "      <td>58</td>\n",
       "      <td>58</td>\n",
       "    </tr>\n",
       "    <tr>\n",
       "      <th>4</th>\n",
       "      <td>25</td>\n",
       "      <td>26</td>\n",
       "    </tr>\n",
       "    <tr>\n",
       "      <th>5</th>\n",
       "      <td>72</td>\n",
       "      <td>72</td>\n",
       "    </tr>\n",
       "    <tr>\n",
       "      <th>6</th>\n",
       "      <td>261</td>\n",
       "      <td>262</td>\n",
       "    </tr>\n",
       "    <tr>\n",
       "      <th>7</th>\n",
       "      <td>107</td>\n",
       "      <td>107</td>\n",
       "    </tr>\n",
       "    <tr>\n",
       "      <th>8</th>\n",
       "      <td>4</td>\n",
       "      <td>4</td>\n",
       "    </tr>\n",
       "    <tr>\n",
       "      <th>9</th>\n",
       "      <td>3</td>\n",
       "      <td>4</td>\n",
       "    </tr>\n",
       "    <tr>\n",
       "      <th>10</th>\n",
       "      <td>5</td>\n",
       "      <td>6</td>\n",
       "    </tr>\n",
       "    <tr>\n",
       "      <th>11</th>\n",
       "      <td>25</td>\n",
       "      <td>26</td>\n",
       "    </tr>\n",
       "    <tr>\n",
       "      <th>12</th>\n",
       "      <td>8</td>\n",
       "      <td>8</td>\n",
       "    </tr>\n",
       "    <tr>\n",
       "      <th>13</th>\n",
       "      <td>38</td>\n",
       "      <td>38</td>\n",
       "    </tr>\n",
       "    <tr>\n",
       "      <th>14</th>\n",
       "      <td>6</td>\n",
       "      <td>6</td>\n",
       "    </tr>\n",
       "    <tr>\n",
       "      <th>15</th>\n",
       "      <td>7</td>\n",
       "      <td>7</td>\n",
       "    </tr>\n",
       "    <tr>\n",
       "      <th>16</th>\n",
       "      <td>0</td>\n",
       "      <td>1</td>\n",
       "    </tr>\n",
       "    <tr>\n",
       "      <th>17</th>\n",
       "      <td>129</td>\n",
       "      <td>129</td>\n",
       "    </tr>\n",
       "    <tr>\n",
       "      <th>18</th>\n",
       "      <td>115</td>\n",
       "      <td>116</td>\n",
       "    </tr>\n",
       "    <tr>\n",
       "      <th>19</th>\n",
       "      <td>90</td>\n",
       "      <td>90</td>\n",
       "    </tr>\n",
       "  </tbody>\n",
       "</table>\n",
       "</div>"
      ],
      "text/plain": [
       "    prediction  true\n",
       "0            5     5\n",
       "1          133   133\n",
       "2           43    43\n",
       "3           58    58\n",
       "4           25    26\n",
       "5           72    72\n",
       "6          261   262\n",
       "7          107   107\n",
       "8            4     4\n",
       "9            3     4\n",
       "10           5     6\n",
       "11          25    26\n",
       "12           8     8\n",
       "13          38    38\n",
       "14           6     6\n",
       "15           7     7\n",
       "16           0     1\n",
       "17         129   129\n",
       "18         115   116\n",
       "19          90    90"
      ]
     },
     "execution_count": 22,
     "metadata": {},
     "output_type": "execute_result"
    }
   ],
   "source": [
    "compare = pd.DataFrame()\n",
    "compare[\"prediction\"] = y_pred.astype(\"int\")\n",
    "compare[\"true\"] = y_test\n",
    "compare.head(20)"
   ]
  },
  {
   "cell_type": "code",
   "execution_count": 23,
   "id": "634ee3cc",
   "metadata": {
    "execution": {
     "iopub.execute_input": "2022-02-19T15:30:58.432273Z",
     "iopub.status.busy": "2022-02-19T15:30:58.431650Z",
     "iopub.status.idle": "2022-02-19T15:30:58.438700Z",
     "shell.execute_reply": "2022-02-19T15:30:58.438130Z",
     "shell.execute_reply.started": "2022-02-19T14:21:37.194792Z"
    },
    "papermill": {
     "duration": 0.061265,
     "end_time": "2022-02-19T15:30:58.438840",
     "exception": false,
     "start_time": "2022-02-19T15:30:58.377575",
     "status": "completed"
    },
    "tags": []
   },
   "outputs": [],
   "source": [
    "data[\"index\"] = np.arange(0, len(data), 1)"
   ]
  },
  {
   "cell_type": "code",
   "execution_count": 24,
   "id": "6ae4314e",
   "metadata": {
    "execution": {
     "iopub.execute_input": "2022-02-19T15:30:58.545542Z",
     "iopub.status.busy": "2022-02-19T15:30:58.544889Z",
     "iopub.status.idle": "2022-02-19T15:30:58.849527Z",
     "shell.execute_reply": "2022-02-19T15:30:58.850039Z",
     "shell.execute_reply.started": "2022-02-19T14:33:35.442457Z"
    },
    "papermill": {
     "duration": 0.361385,
     "end_time": "2022-02-19T15:30:58.850214",
     "exception": false,
     "start_time": "2022-02-19T15:30:58.488829",
     "status": "completed"
    },
    "tags": []
   },
   "outputs": [
    {
     "data": {
      "text/plain": [
       "<AxesSubplot:xlabel='Income', ylabel='Total_Purch'>"
      ]
     },
     "execution_count": 24,
     "metadata": {},
     "output_type": "execute_result"
    },
    {
     "data": {
      "image/png": "[encoded data removed]",
      "text/plain": [
       "<Figure size 576x432 with 1 Axes>"
      ]
     },
     "metadata": {},
     "output_type": "display_data"
    }
   ],
   "source": [
    "data[:1000].plot(figsize=(8,6), kind=\"scatter\", color=\"deepskyblue\", x=\"Income\", y=\"Total_Purch\")"
   ]
  },
  {
   "cell_type": "markdown",
   "id": "eda85c7b",
   "metadata": {
    "papermill": {
     "duration": 0.052085,
     "end_time": "2022-02-19T15:30:58.954760",
     "exception": false,
     "start_time": "2022-02-19T15:30:58.902675",
     "status": "completed"
    },
    "tags": []
   },
   "source": [
    "# Logistic Regression"
   ]
  },
  {
   "cell_type": "code",
   "execution_count": 25,
   "id": "cbd4c1d4",
   "metadata": {
    "execution": {
     "iopub.execute_input": "2022-02-19T15:30:59.061729Z",
     "iopub.status.busy": "2022-02-19T15:30:59.060739Z",
     "iopub.status.idle": "2022-02-19T15:30:59.089638Z",
     "shell.execute_reply": "2022-02-19T15:30:59.090105Z",
     "shell.execute_reply.started": "2022-02-19T14:39:08.058199Z"
    },
    "papermill": {
     "duration": 0.084064,
     "end_time": "2022-02-19T15:30:59.090279",
     "exception": false,
     "start_time": "2022-02-19T15:30:59.006215",
     "status": "completed"
    },
    "tags": []
   },
   "outputs": [
    {
     "name": "stdout",
     "output_type": "stream",
     "text": [
      "<class 'pandas.core.frame.DataFrame'>\n",
      "RangeIndex: 891 entries, 0 to 890\n",
      "Data columns (total 12 columns):\n",
      " #   Column       Non-Null Count  Dtype  \n",
      "---  ------       --------------  -----  \n",
      " 0   PassengerId  891 non-null    int64  \n",
      " 1   Survived     891 non-null    int64  \n",
      " 2   Pclass       891 non-null    int64  \n",
      " 3   Name         891 non-null    object \n",
      " 4   Sex          891 non-null    object \n",
      " 5   Age          714 non-null    float64\n",
      " 6   SibSp        891 non-null    int64  \n",
      " 7   Parch        891 non-null    int64  \n",
      " 8   Ticket       891 non-null    object \n",
      " 9   Fare         891 non-null    float64\n",
      " 10  Cabin        204 non-null    object \n",
      " 11  Embarked     889 non-null    object \n",
      "dtypes: float64(2), int64(5), object(5)\n",
      "memory usage: 83.7+ KB\n"
     ]
    }
   ],
   "source": [
    "titanic_train = pd.read_csv(\"../input/titanic/train.csv\")\n",
    "titanic_test = pd.read_csv(\"../input/titanic/test.csv\")\n",
    "\n",
    "titanic_train.info()"
   ]
  },
  {
   "cell_type": "code",
   "execution_count": 26,
   "id": "ed16ee86",
   "metadata": {
    "execution": {
     "iopub.execute_input": "2022-02-19T15:30:59.198638Z",
     "iopub.status.busy": "2022-02-19T15:30:59.197688Z",
     "iopub.status.idle": "2022-02-19T15:30:59.210817Z",
     "shell.execute_reply": "2022-02-19T15:30:59.211692Z",
     "shell.execute_reply.started": "2022-02-19T14:39:20.396272Z"
    },
    "papermill": {
     "duration": 0.069378,
     "end_time": "2022-02-19T15:30:59.211937",
     "exception": false,
     "start_time": "2022-02-19T15:30:59.142559",
     "status": "completed"
    },
    "tags": []
   },
   "outputs": [
    {
     "name": "stdout",
     "output_type": "stream",
     "text": [
      "<class 'pandas.core.frame.DataFrame'>\n",
      "RangeIndex: 418 entries, 0 to 417\n",
      "Data columns (total 11 columns):\n",
      " #   Column       Non-Null Count  Dtype  \n",
      "---  ------       --------------  -----  \n",
      " 0   PassengerId  418 non-null    int64  \n",
      " 1   Pclass       418 non-null    int64  \n",
      " 2   Name         418 non-null    object \n",
      " 3   Sex          418 non-null    object \n",
      " 4   Age          332 non-null    float64\n",
      " 5   SibSp        418 non-null    int64  \n",
      " 6   Parch        418 non-null    int64  \n",
      " 7   Ticket       418 non-null    object \n",
      " 8   Fare         417 non-null    float64\n",
      " 9   Cabin        91 non-null     object \n",
      " 10  Embarked     418 non-null    object \n",
      "dtypes: float64(2), int64(4), object(5)\n",
      "memory usage: 36.0+ KB\n"
     ]
    }
   ],
   "source": [
    "titanic_test.info()"
   ]
  },
  {
   "cell_type": "code",
   "execution_count": 27,
   "id": "e1e72dcc",
   "metadata": {
    "execution": {
     "iopub.execute_input": "2022-02-19T15:30:59.321288Z",
     "iopub.status.busy": "2022-02-19T15:30:59.320642Z",
     "iopub.status.idle": "2022-02-19T15:30:59.343753Z",
     "shell.execute_reply": "2022-02-19T15:30:59.344350Z",
     "shell.execute_reply.started": "2022-02-19T14:49:25.671787Z"
    },
    "papermill": {
     "duration": 0.07918,
     "end_time": "2022-02-19T15:30:59.344535",
     "exception": false,
     "start_time": "2022-02-19T15:30:59.265355",
     "status": "completed"
    },
    "tags": []
   },
   "outputs": [
    {
     "data": {
      "text/html": [
       "<div>\n",
       "<style scoped>\n",
       "    .dataframe tbody tr th:only-of-type {\n",
       "        vertical-align: middle;\n",
       "    }\n",
       "\n",
       "    .dataframe tbody tr th {\n",
       "        vertical-align: top;\n",
       "    }\n",
       "\n",
       "    .dataframe thead th {\n",
       "        text-align: right;\n",
       "    }\n",
       "</style>\n",
       "<table border=\"1\" class=\"dataframe\">\n",
       "  <thead>\n",
       "    <tr style=\"text-align: right;\">\n",
       "      <th></th>\n",
       "      <th>PassengerId</th>\n",
       "      <th>Survived</th>\n",
       "      <th>Pclass</th>\n",
       "      <th>Name</th>\n",
       "      <th>Sex</th>\n",
       "      <th>Age</th>\n",
       "      <th>SibSp</th>\n",
       "      <th>Parch</th>\n",
       "      <th>Ticket</th>\n",
       "      <th>Fare</th>\n",
       "      <th>Cabin</th>\n",
       "      <th>Embarked</th>\n",
       "    </tr>\n",
       "  </thead>\n",
       "  <tbody>\n",
       "    <tr>\n",
       "      <th>0</th>\n",
       "      <td>1</td>\n",
       "      <td>0.0</td>\n",
       "      <td>3</td>\n",
       "      <td>Braund, Mr. Owen Harris</td>\n",
       "      <td>male</td>\n",
       "      <td>22.0</td>\n",
       "      <td>1</td>\n",
       "      <td>0</td>\n",
       "      <td>A/5 21171</td>\n",
       "      <td>7.2500</td>\n",
       "      <td>NaN</td>\n",
       "      <td>S</td>\n",
       "    </tr>\n",
       "    <tr>\n",
       "      <th>1</th>\n",
       "      <td>2</td>\n",
       "      <td>1.0</td>\n",
       "      <td>1</td>\n",
       "      <td>Cumings, Mrs. John Bradley (Florence Briggs Th...</td>\n",
       "      <td>female</td>\n",
       "      <td>38.0</td>\n",
       "      <td>1</td>\n",
       "      <td>0</td>\n",
       "      <td>PC 17599</td>\n",
       "      <td>71.2833</td>\n",
       "      <td>C85</td>\n",
       "      <td>C</td>\n",
       "    </tr>\n",
       "    <tr>\n",
       "      <th>2</th>\n",
       "      <td>3</td>\n",
       "      <td>1.0</td>\n",
       "      <td>3</td>\n",
       "      <td>Heikkinen, Miss. Laina</td>\n",
       "      <td>female</td>\n",
       "      <td>26.0</td>\n",
       "      <td>0</td>\n",
       "      <td>0</td>\n",
       "      <td>STON/O2. 3101282</td>\n",
       "      <td>7.9250</td>\n",
       "      <td>NaN</td>\n",
       "      <td>S</td>\n",
       "    </tr>\n",
       "    <tr>\n",
       "      <th>3</th>\n",
       "      <td>4</td>\n",
       "      <td>1.0</td>\n",
       "      <td>1</td>\n",
       "      <td>Futrelle, Mrs. Jacques Heath (Lily May Peel)</td>\n",
       "      <td>female</td>\n",
       "      <td>35.0</td>\n",
       "      <td>1</td>\n",
       "      <td>0</td>\n",
       "      <td>113803</td>\n",
       "      <td>53.1000</td>\n",
       "      <td>C123</td>\n",
       "      <td>S</td>\n",
       "    </tr>\n",
       "    <tr>\n",
       "      <th>4</th>\n",
       "      <td>5</td>\n",
       "      <td>0.0</td>\n",
       "      <td>3</td>\n",
       "      <td>Allen, Mr. William Henry</td>\n",
       "      <td>male</td>\n",
       "      <td>35.0</td>\n",
       "      <td>0</td>\n",
       "      <td>0</td>\n",
       "      <td>373450</td>\n",
       "      <td>8.0500</td>\n",
       "      <td>NaN</td>\n",
       "      <td>S</td>\n",
       "    </tr>\n",
       "  </tbody>\n",
       "</table>\n",
       "</div>"
      ],
      "text/plain": [
       "   PassengerId  Survived  Pclass  \\\n",
       "0            1       0.0       3   \n",
       "1            2       1.0       1   \n",
       "2            3       1.0       3   \n",
       "3            4       1.0       1   \n",
       "4            5       0.0       3   \n",
       "\n",
       "                                                Name     Sex   Age  SibSp  \\\n",
       "0                            Braund, Mr. Owen Harris    male  22.0      1   \n",
       "1  Cumings, Mrs. John Bradley (Florence Briggs Th...  female  38.0      1   \n",
       "2                             Heikkinen, Miss. Laina  female  26.0      0   \n",
       "3       Futrelle, Mrs. Jacques Heath (Lily May Peel)  female  35.0      1   \n",
       "4                           Allen, Mr. William Henry    male  35.0      0   \n",
       "\n",
       "   Parch            Ticket     Fare Cabin Embarked  \n",
       "0      0         A/5 21171   7.2500   NaN        S  \n",
       "1      0          PC 17599  71.2833   C85        C  \n",
       "2      0  STON/O2. 3101282   7.9250   NaN        S  \n",
       "3      0            113803  53.1000  C123        S  \n",
       "4      0            373450   8.0500   NaN        S  "
      ]
     },
     "execution_count": 27,
     "metadata": {},
     "output_type": "execute_result"
    }
   ],
   "source": [
    "titanic = pd.concat([titanic_train, titanic_test], axis=0)\n",
    "titanic.head()"
   ]
  },
  {
   "cell_type": "code",
   "execution_count": 28,
   "id": "a27ce51b",
   "metadata": {
    "execution": {
     "iopub.execute_input": "2022-02-19T15:30:59.457808Z",
     "iopub.status.busy": "2022-02-19T15:30:59.456883Z",
     "iopub.status.idle": "2022-02-19T15:30:59.474979Z",
     "shell.execute_reply": "2022-02-19T15:30:59.475573Z",
     "shell.execute_reply.started": "2022-02-19T14:55:25.373877Z"
    },
    "papermill": {
     "duration": 0.075947,
     "end_time": "2022-02-19T15:30:59.475744",
     "exception": false,
     "start_time": "2022-02-19T15:30:59.399797",
     "status": "completed"
    },
    "tags": []
   },
   "outputs": [
    {
     "name": "stdout",
     "output_type": "stream",
     "text": [
      "<class 'pandas.core.frame.DataFrame'>\n",
      "Int64Index: 1309 entries, 0 to 417\n",
      "Data columns (total 7 columns):\n",
      " #   Column       Non-Null Count  Dtype  \n",
      "---  ------       --------------  -----  \n",
      " 0   PassengerId  1309 non-null   int64  \n",
      " 1   Survived     891 non-null    float64\n",
      " 2   Pclass       1309 non-null   int64  \n",
      " 3   Age          1046 non-null   float64\n",
      " 4   SibSp        1309 non-null   int64  \n",
      " 5   Parch        1309 non-null   int64  \n",
      " 6   Fare         1308 non-null   float64\n",
      "dtypes: float64(3), int64(4)\n",
      "memory usage: 81.8 KB\n"
     ]
    }
   ],
   "source": [
    "titanic[\"Embarked\"].fillna(\"S\")\n",
    "dummy = pd.get_dummies(titanic[[\"Embarked\",\"Sex\"]], dtype=\"int\")\n",
    "titanic.drop([\"Ticket\",\"Name\",\"Cabin\",\"Embarked\",\"Sex\"], axis=1, inplace=True)\n",
    "titanic.info()"
   ]
  },
  {
   "cell_type": "code",
   "execution_count": 29,
   "id": "a628f890",
   "metadata": {
    "execution": {
     "iopub.execute_input": "2022-02-19T15:30:59.588346Z",
     "iopub.status.busy": "2022-02-19T15:30:59.587334Z",
     "iopub.status.idle": "2022-02-19T15:30:59.597585Z",
     "shell.execute_reply": "2022-02-19T15:30:59.598084Z",
     "shell.execute_reply.started": "2022-02-19T14:58:29.264152Z"
    },
    "papermill": {
     "duration": 0.069077,
     "end_time": "2022-02-19T15:30:59.598248",
     "exception": false,
     "start_time": "2022-02-19T15:30:59.529171",
     "status": "completed"
    },
    "tags": []
   },
   "outputs": [
    {
     "name": "stdout",
     "output_type": "stream",
     "text": [
      "<class 'pandas.core.frame.DataFrame'>\n",
      "Int64Index: 891 entries, 0 to 890\n",
      "Data columns (total 7 columns):\n",
      " #   Column       Non-Null Count  Dtype  \n",
      "---  ------       --------------  -----  \n",
      " 0   PassengerId  891 non-null    int64  \n",
      " 1   Survived     891 non-null    float64\n",
      " 2   Pclass       891 non-null    int64  \n",
      " 3   Age          714 non-null    float64\n",
      " 4   SibSp        891 non-null    int64  \n",
      " 5   Parch        891 non-null    int64  \n",
      " 6   Fare         891 non-null    float64\n",
      "dtypes: float64(3), int64(4)\n",
      "memory usage: 55.7 KB\n"
     ]
    }
   ],
   "source": [
    "train = titanic.loc[titanic[\"Survived\"].notnull()]\n",
    "train.info()"
   ]
  },
  {
   "cell_type": "code",
   "execution_count": 30,
   "id": "6ab09477",
   "metadata": {
    "execution": {
     "iopub.execute_input": "2022-02-19T15:30:59.709114Z",
     "iopub.status.busy": "2022-02-19T15:30:59.708189Z",
     "iopub.status.idle": "2022-02-19T15:30:59.720297Z",
     "shell.execute_reply": "2022-02-19T15:30:59.720816Z",
     "shell.execute_reply.started": "2022-02-19T14:59:51.695763Z"
    },
    "papermill": {
     "duration": 0.069194,
     "end_time": "2022-02-19T15:30:59.721025",
     "exception": false,
     "start_time": "2022-02-19T15:30:59.651831",
     "status": "completed"
    },
    "tags": []
   },
   "outputs": [
    {
     "name": "stdout",
     "output_type": "stream",
     "text": [
      "<class 'pandas.core.frame.DataFrame'>\n",
      "Int64Index: 418 entries, 0 to 417\n",
      "Data columns (total 7 columns):\n",
      " #   Column       Non-Null Count  Dtype  \n",
      "---  ------       --------------  -----  \n",
      " 0   PassengerId  418 non-null    int64  \n",
      " 1   Survived     0 non-null      float64\n",
      " 2   Pclass       418 non-null    int64  \n",
      " 3   Age          332 non-null    float64\n",
      " 4   SibSp        418 non-null    int64  \n",
      " 5   Parch        418 non-null    int64  \n",
      " 6   Fare         417 non-null    float64\n",
      "dtypes: float64(3), int64(4)\n",
      "memory usage: 26.1 KB\n"
     ]
    }
   ],
   "source": [
    "test = titanic.loc[titanic[\"Survived\"].isnull()]\n",
    "test.info()"
   ]
  },
  {
   "cell_type": "code",
   "execution_count": 31,
   "id": "64a1339e",
   "metadata": {
    "execution": {
     "iopub.execute_input": "2022-02-19T15:30:59.834888Z",
     "iopub.status.busy": "2022-02-19T15:30:59.833846Z",
     "iopub.status.idle": "2022-02-19T15:30:59.838875Z",
     "shell.execute_reply": "2022-02-19T15:30:59.839354Z",
     "shell.execute_reply.started": "2022-02-19T14:59:52.623876Z"
    },
    "papermill": {
     "duration": 0.064241,
     "end_time": "2022-02-19T15:30:59.839533",
     "exception": false,
     "start_time": "2022-02-19T15:30:59.775292",
     "status": "completed"
    },
    "tags": []
   },
   "outputs": [],
   "source": [
    "test.drop(\"Survived\", axis=1, inplace=True)"
   ]
  },
  {
   "cell_type": "code",
   "execution_count": 32,
   "id": "4d1915e2",
   "metadata": {
    "execution": {
     "iopub.execute_input": "2022-02-19T15:30:59.955422Z",
     "iopub.status.busy": "2022-02-19T15:30:59.954428Z",
     "iopub.status.idle": "2022-02-19T15:30:59.958732Z",
     "shell.execute_reply": "2022-02-19T15:30:59.959234Z",
     "shell.execute_reply.started": "2022-02-19T15:08:41.736470Z"
    },
    "papermill": {
     "duration": 0.065231,
     "end_time": "2022-02-19T15:30:59.959406",
     "exception": false,
     "start_time": "2022-02-19T15:30:59.894175",
     "status": "completed"
    },
    "tags": []
   },
   "outputs": [],
   "source": [
    "train.fillna(train[\"Age\"].describe()[\"mean\"], axis=1, inplace=True)"
   ]
  },
  {
   "cell_type": "code",
   "execution_count": 33,
   "id": "b703221a",
   "metadata": {
    "execution": {
     "iopub.execute_input": "2022-02-19T15:31:00.073061Z",
     "iopub.status.busy": "2022-02-19T15:31:00.072053Z",
     "iopub.status.idle": "2022-02-19T15:31:00.078792Z",
     "shell.execute_reply": "2022-02-19T15:31:00.079276Z",
     "shell.execute_reply.started": "2022-02-19T15:00:43.372782Z"
    },
    "papermill": {
     "duration": 0.066172,
     "end_time": "2022-02-19T15:31:00.079452",
     "exception": false,
     "start_time": "2022-02-19T15:31:00.013280",
     "status": "completed"
    },
    "tags": []
   },
   "outputs": [],
   "source": [
    "test.fillna(test[\"Age\"].describe()[\"mean\"], axis=1, inplace=True)"
   ]
  },
  {
   "cell_type": "code",
   "execution_count": 34,
   "id": "2a1dcdad",
   "metadata": {
    "execution": {
     "iopub.execute_input": "2022-02-19T15:31:00.201657Z",
     "iopub.status.busy": "2022-02-19T15:31:00.200969Z",
     "iopub.status.idle": "2022-02-19T15:31:00.204076Z",
     "shell.execute_reply": "2022-02-19T15:31:00.204587Z",
     "shell.execute_reply.started": "2022-02-19T15:00:55.766435Z"
    },
    "papermill": {
     "duration": 0.070146,
     "end_time": "2022-02-19T15:31:00.204773",
     "exception": false,
     "start_time": "2022-02-19T15:31:00.134627",
     "status": "completed"
    },
    "tags": []
   },
   "outputs": [
    {
     "name": "stdout",
     "output_type": "stream",
     "text": [
      "<class 'pandas.core.frame.DataFrame'>\n",
      "Int64Index: 418 entries, 0 to 417\n",
      "Data columns (total 6 columns):\n",
      " #   Column       Non-Null Count  Dtype  \n",
      "---  ------       --------------  -----  \n",
      " 0   PassengerId  418 non-null    int64  \n",
      " 1   Pclass       418 non-null    int64  \n",
      " 2   Age          418 non-null    float64\n",
      " 3   SibSp        418 non-null    int64  \n",
      " 4   Parch        418 non-null    int64  \n",
      " 5   Fare         418 non-null    float64\n",
      "dtypes: float64(2), int64(4)\n",
      "memory usage: 22.9 KB\n"
     ]
    }
   ],
   "source": [
    "test.info()"
   ]
  },
  {
   "cell_type": "code",
   "execution_count": 35,
   "id": "bc422fae",
   "metadata": {
    "execution": {
     "iopub.execute_input": "2022-02-19T15:31:00.317634Z",
     "iopub.status.busy": "2022-02-19T15:31:00.316656Z",
     "iopub.status.idle": "2022-02-19T15:31:10.717391Z",
     "shell.execute_reply": "2022-02-19T15:31:10.717904Z",
     "shell.execute_reply.started": "2022-02-19T15:27:46.113855Z"
    },
    "papermill": {
     "duration": 10.458603,
     "end_time": "2022-02-19T15:31:10.718086",
     "exception": false,
     "start_time": "2022-02-19T15:31:00.259483",
     "status": "completed"
    },
    "tags": []
   },
   "outputs": [
    {
     "data": {
      "image/png": "[encoded data removed]",
      "text/plain": [
       "<Figure size 1131.88x1080 with 42 Axes>"
      ]
     },
     "metadata": {},
     "output_type": "display_data"
    }
   ],
   "source": [
    "sns.pairplot(train, hue=\"Survived\")\n",
    "plt.show()"
   ]
  },
  {
   "cell_type": "code",
   "execution_count": 36,
   "id": "140e7656",
   "metadata": {
    "execution": {
     "iopub.execute_input": "2022-02-19T15:31:10.858568Z",
     "iopub.status.busy": "2022-02-19T15:31:10.857866Z",
     "iopub.status.idle": "2022-02-19T15:31:10.864701Z",
     "shell.execute_reply": "2022-02-19T15:31:10.865195Z",
     "shell.execute_reply.started": "2022-02-19T15:08:47.568983Z"
    },
    "papermill": {
     "duration": 0.077557,
     "end_time": "2022-02-19T15:31:10.865371",
     "exception": false,
     "start_time": "2022-02-19T15:31:10.787814",
     "status": "completed"
    },
    "tags": []
   },
   "outputs": [],
   "source": [
    "X_train, X_val, y_train, y_val = train_test_split(train.drop(\"Survived\", axis=1), train[\"Survived\"], test_size=0.3, random_state=17)"
   ]
  },
  {
   "cell_type": "code",
   "execution_count": 37,
   "id": "0bcce70d",
   "metadata": {
    "execution": {
     "iopub.execute_input": "2022-02-19T15:31:11.004079Z",
     "iopub.status.busy": "2022-02-19T15:31:11.003463Z",
     "iopub.status.idle": "2022-02-19T15:31:11.039900Z",
     "shell.execute_reply": "2022-02-19T15:31:11.039328Z",
     "shell.execute_reply.started": "2022-02-19T15:08:48.641878Z"
    },
    "papermill": {
     "duration": 0.105613,
     "end_time": "2022-02-19T15:31:11.040035",
     "exception": false,
     "start_time": "2022-02-19T15:31:10.934422",
     "status": "completed"
    },
    "tags": []
   },
   "outputs": [],
   "source": [
    "log_reg = LogisticRegression()\n",
    "log_reg.fit(X_train, y_train)\n",
    "y_val_pred = log_reg.predict(X_val)"
   ]
  },
  {
   "cell_type": "code",
   "execution_count": 38,
   "id": "0c594947",
   "metadata": {
    "execution": {
     "iopub.execute_input": "2022-02-19T15:31:11.181289Z",
     "iopub.status.busy": "2022-02-19T15:31:11.180531Z",
     "iopub.status.idle": "2022-02-19T15:31:11.185343Z",
     "shell.execute_reply": "2022-02-19T15:31:11.184819Z",
     "shell.execute_reply.started": "2022-02-19T15:11:22.456361Z"
    },
    "papermill": {
     "duration": 0.078444,
     "end_time": "2022-02-19T15:31:11.185474",
     "exception": false,
     "start_time": "2022-02-19T15:31:11.107030",
     "status": "completed"
    },
    "tags": []
   },
   "outputs": [
    {
     "name": "stdout",
     "output_type": "stream",
     "text": [
      "Accuracy:  0.6982343499197432\n"
     ]
    }
   ],
   "source": [
    "print(\"Accuracy: \",accuracy_score(y_train,log_reg.predict(X_train)))"
   ]
  },
  {
   "cell_type": "code",
   "execution_count": 39,
   "id": "1b10a78f",
   "metadata": {
    "execution": {
     "iopub.execute_input": "2022-02-19T15:31:11.324396Z",
     "iopub.status.busy": "2022-02-19T15:31:11.323747Z",
     "iopub.status.idle": "2022-02-19T15:31:11.327204Z",
     "shell.execute_reply": "2022-02-19T15:31:11.327768Z",
     "shell.execute_reply.started": "2022-02-19T15:09:44.651764Z"
    },
    "papermill": {
     "duration": 0.075292,
     "end_time": "2022-02-19T15:31:11.327955",
     "exception": false,
     "start_time": "2022-02-19T15:31:11.252663",
     "status": "completed"
    },
    "tags": []
   },
   "outputs": [
    {
     "name": "stdout",
     "output_type": "stream",
     "text": [
      "Accuracy:  0.6865671641791045\n"
     ]
    }
   ],
   "source": [
    "print(\"Accuracy: \",accuracy_score(y_val,y_val_pred))"
   ]
  }
 ],
 "metadata": {
  "kernelspec": {
   "display_name": "Python 3",
   "language": "python",
   "name": "python3"
  },
  "language_info": {
   "codemirror_mode": {
    "name": "ipython",
    "version": 3
   },
   "file_extension": ".py",
   "mimetype": "text/x-python",
   "name": "python",
   "nbconvert_exporter": "python",
   "pygments_lexer": "ipython3",
   "version": "3.7.12"
  },
  "papermill": {
   "default_parameters": {},
   "duration": 27.452102,
   "end_time": "2022-02-19T15:31:12.206493",
   "environment_variables": {},
   "exception": null,
   "input_path": "__notebook__.ipynb",
   "output_path": "__notebook__.ipynb",
   "parameters": {},
   "start_time": "2022-02-19T15:30:44.754391",
   "version": "2.3.3"
  }
 },
 "nbformat": 4,
 "nbformat_minor": 5
}
